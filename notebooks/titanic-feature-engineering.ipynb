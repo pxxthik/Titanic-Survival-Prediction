{
 "cells": [
  {
   "cell_type": "markdown",
   "id": "d860bdd1",
   "metadata": {
    "papermill": {
     "duration": 0.00421,
     "end_time": "2025-06-18T12:01:12.204754",
     "exception": false,
     "start_time": "2025-06-18T12:01:12.200544",
     "status": "completed"
    },
    "tags": []
   },
   "source": [
    "# 🛠️ Titanic Survival Prediction - Feature Engineering\n",
    "\n",
    "This notebook is part of the Titanic Survival Prediction project. In this phase, We'll transform raw data into meaningful features to help with future analysis or model training."
   ]
  },
  {
   "cell_type": "code",
   "execution_count": 1,
   "id": "740c5bc0",
   "metadata": {
    "_cell_guid": "b1076dfc-b9ad-4769-8c92-a6c4dae69d19",
    "_uuid": "8f2839f25d086af736a60e9eeb907d3b93b6e0e5",
    "execution": {
     "iopub.execute_input": "2025-06-18T12:01:12.212782Z",
     "iopub.status.busy": "2025-06-18T12:01:12.212469Z",
     "iopub.status.idle": "2025-06-18T12:01:14.424949Z",
     "shell.execute_reply": "2025-06-18T12:01:14.423051Z"
    },
    "papermill": {
     "duration": 2.220183,
     "end_time": "2025-06-18T12:01:14.428535",
     "exception": false,
     "start_time": "2025-06-18T12:01:12.208352",
     "status": "completed"
    },
    "tags": []
   },
   "outputs": [],
   "source": [
    "import numpy as np\n",
    "import pandas as pd\n",
    "\n",
    "df = pd.read_csv(\"/kaggle/input/titanic-cleaned/titanic_cleaned.csv\")"
   ]
  },
  {
   "cell_type": "code",
   "execution_count": 2,
   "id": "e5500bd9",
   "metadata": {
    "execution": {
     "iopub.execute_input": "2025-06-18T12:01:14.438396Z",
     "iopub.status.busy": "2025-06-18T12:01:14.437814Z",
     "iopub.status.idle": "2025-06-18T12:01:14.480759Z",
     "shell.execute_reply": "2025-06-18T12:01:14.479141Z"
    },
    "papermill": {
     "duration": 0.050237,
     "end_time": "2025-06-18T12:01:14.482301",
     "exception": false,
     "start_time": "2025-06-18T12:01:14.432064",
     "status": "completed"
    },
    "tags": []
   },
   "outputs": [
    {
     "data": {
      "text/html": [
       "<div>\n",
       "<style scoped>\n",
       "    .dataframe tbody tr th:only-of-type {\n",
       "        vertical-align: middle;\n",
       "    }\n",
       "\n",
       "    .dataframe tbody tr th {\n",
       "        vertical-align: top;\n",
       "    }\n",
       "\n",
       "    .dataframe thead th {\n",
       "        text-align: right;\n",
       "    }\n",
       "</style>\n",
       "<table border=\"1\" class=\"dataframe\">\n",
       "  <thead>\n",
       "    <tr style=\"text-align: right;\">\n",
       "      <th></th>\n",
       "      <th>Survived</th>\n",
       "      <th>Pclass</th>\n",
       "      <th>Name</th>\n",
       "      <th>Sex</th>\n",
       "      <th>Age</th>\n",
       "      <th>SibSp</th>\n",
       "      <th>Parch</th>\n",
       "      <th>Fare</th>\n",
       "      <th>Embarked</th>\n",
       "    </tr>\n",
       "  </thead>\n",
       "  <tbody>\n",
       "    <tr>\n",
       "      <th>326</th>\n",
       "      <td>0</td>\n",
       "      <td>3</td>\n",
       "      <td>Nysveen, Mr. Johan Hansen</td>\n",
       "      <td>male</td>\n",
       "      <td>61.0</td>\n",
       "      <td>0</td>\n",
       "      <td>0</td>\n",
       "      <td>6.2375</td>\n",
       "      <td>S</td>\n",
       "    </tr>\n",
       "    <tr>\n",
       "      <th>522</th>\n",
       "      <td>0</td>\n",
       "      <td>3</td>\n",
       "      <td>Lahoud, Mr. Sarkis</td>\n",
       "      <td>male</td>\n",
       "      <td>28.0</td>\n",
       "      <td>0</td>\n",
       "      <td>0</td>\n",
       "      <td>7.2250</td>\n",
       "      <td>C</td>\n",
       "    </tr>\n",
       "    <tr>\n",
       "      <th>217</th>\n",
       "      <td>0</td>\n",
       "      <td>2</td>\n",
       "      <td>Jacobsohn, Mr. Sidney Samuel</td>\n",
       "      <td>male</td>\n",
       "      <td>42.0</td>\n",
       "      <td>1</td>\n",
       "      <td>0</td>\n",
       "      <td>27.0000</td>\n",
       "      <td>S</td>\n",
       "    </tr>\n",
       "    <tr>\n",
       "      <th>722</th>\n",
       "      <td>0</td>\n",
       "      <td>2</td>\n",
       "      <td>Gillespie, Mr. William Henry</td>\n",
       "      <td>male</td>\n",
       "      <td>34.0</td>\n",
       "      <td>0</td>\n",
       "      <td>0</td>\n",
       "      <td>13.0000</td>\n",
       "      <td>S</td>\n",
       "    </tr>\n",
       "    <tr>\n",
       "      <th>285</th>\n",
       "      <td>0</td>\n",
       "      <td>3</td>\n",
       "      <td>Stankovic, Mr. Ivan</td>\n",
       "      <td>male</td>\n",
       "      <td>33.0</td>\n",
       "      <td>0</td>\n",
       "      <td>0</td>\n",
       "      <td>8.6625</td>\n",
       "      <td>C</td>\n",
       "    </tr>\n",
       "  </tbody>\n",
       "</table>\n",
       "</div>"
      ],
      "text/plain": [
       "     Survived  Pclass                          Name   Sex   Age  SibSp  Parch  \\\n",
       "326         0       3     Nysveen, Mr. Johan Hansen  male  61.0      0      0   \n",
       "522         0       3            Lahoud, Mr. Sarkis  male  28.0      0      0   \n",
       "217         0       2  Jacobsohn, Mr. Sidney Samuel  male  42.0      1      0   \n",
       "722         0       2  Gillespie, Mr. William Henry  male  34.0      0      0   \n",
       "285         0       3           Stankovic, Mr. Ivan  male  33.0      0      0   \n",
       "\n",
       "        Fare Embarked  \n",
       "326   6.2375        S  \n",
       "522   7.2250        C  \n",
       "217  27.0000        S  \n",
       "722  13.0000        S  \n",
       "285   8.6625        C  "
      ]
     },
     "execution_count": 2,
     "metadata": {},
     "output_type": "execute_result"
    }
   ],
   "source": [
    "df.sample(5)"
   ]
  },
  {
   "cell_type": "markdown",
   "id": "a696e01e",
   "metadata": {
    "papermill": {
     "duration": 0.003013,
     "end_time": "2025-06-18T12:01:14.489014",
     "exception": false,
     "start_time": "2025-06-18T12:01:14.486001",
     "status": "completed"
    },
    "tags": []
   },
   "source": [
    "## 👨‍👩‍👧‍👦 Feature: Family Size and Alone Indicator"
   ]
  },
  {
   "cell_type": "code",
   "execution_count": 3,
   "id": "199f74dd",
   "metadata": {
    "execution": {
     "iopub.execute_input": "2025-06-18T12:01:14.498132Z",
     "iopub.status.busy": "2025-06-18T12:01:14.497628Z",
     "iopub.status.idle": "2025-06-18T12:01:14.509397Z",
     "shell.execute_reply": "2025-06-18T12:01:14.507769Z"
    },
    "papermill": {
     "duration": 0.02004,
     "end_time": "2025-06-18T12:01:14.512217",
     "exception": false,
     "start_time": "2025-06-18T12:01:14.492177",
     "status": "completed"
    },
    "tags": []
   },
   "outputs": [],
   "source": [
    "df[\"FamilySize\"] = df[\"SibSp\"] + df[\"Parch\"] + 1\n",
    "df[\"isAlone\"] = (df[\"FamilySize\"] > 1).astype(int)"
   ]
  },
  {
   "cell_type": "markdown",
   "id": "c66a482e",
   "metadata": {
    "papermill": {
     "duration": 0.003429,
     "end_time": "2025-06-18T12:01:14.520452",
     "exception": false,
     "start_time": "2025-06-18T12:01:14.517023",
     "status": "completed"
    },
    "tags": []
   },
   "source": [
    "## 🧑 Feature: Extract Title from Name"
   ]
  },
  {
   "cell_type": "code",
   "execution_count": 4,
   "id": "d9e30a39",
   "metadata": {
    "execution": {
     "iopub.execute_input": "2025-06-18T12:01:14.532456Z",
     "iopub.status.busy": "2025-06-18T12:01:14.531854Z",
     "iopub.status.idle": "2025-06-18T12:01:14.549548Z",
     "shell.execute_reply": "2025-06-18T12:01:14.548032Z"
    },
    "papermill": {
     "duration": 0.027826,
     "end_time": "2025-06-18T12:01:14.552239",
     "exception": false,
     "start_time": "2025-06-18T12:01:14.524413",
     "status": "completed"
    },
    "tags": []
   },
   "outputs": [],
   "source": [
    "df[\"Title\"] = df['Name'].str.split(\", \", expand=True)[1].str.split(\".\", expand=True)[0]"
   ]
  },
  {
   "cell_type": "markdown",
   "id": "506a3737",
   "metadata": {
    "papermill": {
     "duration": 0.003288,
     "end_time": "2025-06-18T12:01:14.560052",
     "exception": false,
     "start_time": "2025-06-18T12:01:14.556764",
     "status": "completed"
    },
    "tags": []
   },
   "source": [
    "## 🪙📊 Feature Binning: Fare and Age"
   ]
  },
  {
   "cell_type": "code",
   "execution_count": 5,
   "id": "c10fcdf4",
   "metadata": {
    "execution": {
     "iopub.execute_input": "2025-06-18T12:01:14.568035Z",
     "iopub.status.busy": "2025-06-18T12:01:14.567652Z",
     "iopub.status.idle": "2025-06-18T12:01:14.599071Z",
     "shell.execute_reply": "2025-06-18T12:01:14.597991Z"
    },
    "papermill": {
     "duration": 0.037915,
     "end_time": "2025-06-18T12:01:14.601188",
     "exception": false,
     "start_time": "2025-06-18T12:01:14.563273",
     "status": "completed"
    },
    "tags": []
   },
   "outputs": [],
   "source": [
    "df[\"FareBin\"] = pd.qcut(df[\"Fare\"], 4)\n",
    "df[\"AgeBin\"] = pd.cut(df[\"Age\"].astype(int), 5)"
   ]
  },
  {
   "cell_type": "markdown",
   "id": "2f17f7b4",
   "metadata": {
    "papermill": {
     "duration": 0.003491,
     "end_time": "2025-06-18T12:01:14.608069",
     "exception": false,
     "start_time": "2025-06-18T12:01:14.604578",
     "status": "completed"
    },
    "tags": []
   },
   "source": [
    "## 🧑 Feature: Extract Title from Name"
   ]
  },
  {
   "cell_type": "code",
   "execution_count": 6,
   "id": "89902a77",
   "metadata": {
    "execution": {
     "iopub.execute_input": "2025-06-18T12:01:14.616527Z",
     "iopub.status.busy": "2025-06-18T12:01:14.616036Z",
     "iopub.status.idle": "2025-06-18T12:01:14.628338Z",
     "shell.execute_reply": "2025-06-18T12:01:14.627197Z"
    },
    "papermill": {
     "duration": 0.019099,
     "end_time": "2025-06-18T12:01:14.630681",
     "exception": false,
     "start_time": "2025-06-18T12:01:14.611582",
     "status": "completed"
    },
    "tags": []
   },
   "outputs": [],
   "source": [
    "top_min = 4\n",
    "top_title_names = df[\"Title\"].value_counts().head(top_min).index\n",
    "\n",
    "df[\"Title\"] = df[\"Title\"].apply(lambda x: \"Misc\" if x not in top_title_names else x)"
   ]
  },
  {
   "cell_type": "code",
   "execution_count": 7,
   "id": "fca57597",
   "metadata": {
    "execution": {
     "iopub.execute_input": "2025-06-18T12:01:14.639974Z",
     "iopub.status.busy": "2025-06-18T12:01:14.639599Z",
     "iopub.status.idle": "2025-06-18T12:01:14.648714Z",
     "shell.execute_reply": "2025-06-18T12:01:14.647661Z"
    },
    "papermill": {
     "duration": 0.015773,
     "end_time": "2025-06-18T12:01:14.650731",
     "exception": false,
     "start_time": "2025-06-18T12:01:14.634958",
     "status": "completed"
    },
    "tags": []
   },
   "outputs": [
    {
     "data": {
      "text/plain": [
       "Title\n",
       "Mr        517\n",
       "Miss      182\n",
       "Mrs       125\n",
       "Master     40\n",
       "Misc       27\n",
       "Name: count, dtype: int64"
      ]
     },
     "execution_count": 7,
     "metadata": {},
     "output_type": "execute_result"
    }
   ],
   "source": [
    "df[\"Title\"].value_counts()"
   ]
  },
  {
   "cell_type": "markdown",
   "id": "c478a697",
   "metadata": {
    "papermill": {
     "duration": 0.003151,
     "end_time": "2025-06-18T12:01:14.657862",
     "exception": false,
     "start_time": "2025-06-18T12:01:14.654711",
     "status": "completed"
    },
    "tags": []
   },
   "source": [
    "## 🔍 Preview Data"
   ]
  },
  {
   "cell_type": "code",
   "execution_count": 8,
   "id": "9c6f2830",
   "metadata": {
    "execution": {
     "iopub.execute_input": "2025-06-18T12:01:14.666909Z",
     "iopub.status.busy": "2025-06-18T12:01:14.666092Z",
     "iopub.status.idle": "2025-06-18T12:01:14.687422Z",
     "shell.execute_reply": "2025-06-18T12:01:14.686385Z"
    },
    "papermill": {
     "duration": 0.028281,
     "end_time": "2025-06-18T12:01:14.689496",
     "exception": false,
     "start_time": "2025-06-18T12:01:14.661215",
     "status": "completed"
    },
    "tags": []
   },
   "outputs": [
    {
     "data": {
      "text/html": [
       "<div>\n",
       "<style scoped>\n",
       "    .dataframe tbody tr th:only-of-type {\n",
       "        vertical-align: middle;\n",
       "    }\n",
       "\n",
       "    .dataframe tbody tr th {\n",
       "        vertical-align: top;\n",
       "    }\n",
       "\n",
       "    .dataframe thead th {\n",
       "        text-align: right;\n",
       "    }\n",
       "</style>\n",
       "<table border=\"1\" class=\"dataframe\">\n",
       "  <thead>\n",
       "    <tr style=\"text-align: right;\">\n",
       "      <th></th>\n",
       "      <th>Survived</th>\n",
       "      <th>Pclass</th>\n",
       "      <th>Name</th>\n",
       "      <th>Sex</th>\n",
       "      <th>Age</th>\n",
       "      <th>SibSp</th>\n",
       "      <th>Parch</th>\n",
       "      <th>Fare</th>\n",
       "      <th>Embarked</th>\n",
       "      <th>FamilySize</th>\n",
       "      <th>isAlone</th>\n",
       "      <th>Title</th>\n",
       "      <th>FareBin</th>\n",
       "      <th>AgeBin</th>\n",
       "    </tr>\n",
       "  </thead>\n",
       "  <tbody>\n",
       "    <tr>\n",
       "      <th>218</th>\n",
       "      <td>1</td>\n",
       "      <td>1</td>\n",
       "      <td>Bazzani, Miss. Albina</td>\n",
       "      <td>female</td>\n",
       "      <td>32.0</td>\n",
       "      <td>0</td>\n",
       "      <td>0</td>\n",
       "      <td>76.2917</td>\n",
       "      <td>C</td>\n",
       "      <td>1</td>\n",
       "      <td>0</td>\n",
       "      <td>Miss</td>\n",
       "      <td>(31.0, 512.329]</td>\n",
       "      <td>(16.0, 32.0]</td>\n",
       "    </tr>\n",
       "    <tr>\n",
       "      <th>693</th>\n",
       "      <td>0</td>\n",
       "      <td>3</td>\n",
       "      <td>Saad, Mr. Khalil</td>\n",
       "      <td>male</td>\n",
       "      <td>25.0</td>\n",
       "      <td>0</td>\n",
       "      <td>0</td>\n",
       "      <td>7.2250</td>\n",
       "      <td>C</td>\n",
       "      <td>1</td>\n",
       "      <td>0</td>\n",
       "      <td>Mr</td>\n",
       "      <td>(-0.001, 7.91]</td>\n",
       "      <td>(16.0, 32.0]</td>\n",
       "    </tr>\n",
       "    <tr>\n",
       "      <th>778</th>\n",
       "      <td>0</td>\n",
       "      <td>3</td>\n",
       "      <td>Kilgannon, Mr. Thomas J</td>\n",
       "      <td>male</td>\n",
       "      <td>28.0</td>\n",
       "      <td>0</td>\n",
       "      <td>0</td>\n",
       "      <td>7.7375</td>\n",
       "      <td>Q</td>\n",
       "      <td>1</td>\n",
       "      <td>0</td>\n",
       "      <td>Mr</td>\n",
       "      <td>(-0.001, 7.91]</td>\n",
       "      <td>(16.0, 32.0]</td>\n",
       "    </tr>\n",
       "    <tr>\n",
       "      <th>884</th>\n",
       "      <td>0</td>\n",
       "      <td>3</td>\n",
       "      <td>Sutehall, Mr. Henry Jr</td>\n",
       "      <td>male</td>\n",
       "      <td>25.0</td>\n",
       "      <td>0</td>\n",
       "      <td>0</td>\n",
       "      <td>7.0500</td>\n",
       "      <td>S</td>\n",
       "      <td>1</td>\n",
       "      <td>0</td>\n",
       "      <td>Mr</td>\n",
       "      <td>(-0.001, 7.91]</td>\n",
       "      <td>(16.0, 32.0]</td>\n",
       "    </tr>\n",
       "    <tr>\n",
       "      <th>222</th>\n",
       "      <td>0</td>\n",
       "      <td>3</td>\n",
       "      <td>Green, Mr. George Henry</td>\n",
       "      <td>male</td>\n",
       "      <td>51.0</td>\n",
       "      <td>0</td>\n",
       "      <td>0</td>\n",
       "      <td>8.0500</td>\n",
       "      <td>S</td>\n",
       "      <td>1</td>\n",
       "      <td>0</td>\n",
       "      <td>Mr</td>\n",
       "      <td>(7.91, 14.454]</td>\n",
       "      <td>(48.0, 64.0]</td>\n",
       "    </tr>\n",
       "  </tbody>\n",
       "</table>\n",
       "</div>"
      ],
      "text/plain": [
       "     Survived  Pclass                     Name     Sex   Age  SibSp  Parch  \\\n",
       "218         1       1    Bazzani, Miss. Albina  female  32.0      0      0   \n",
       "693         0       3         Saad, Mr. Khalil    male  25.0      0      0   \n",
       "778         0       3  Kilgannon, Mr. Thomas J    male  28.0      0      0   \n",
       "884         0       3   Sutehall, Mr. Henry Jr    male  25.0      0      0   \n",
       "222         0       3  Green, Mr. George Henry    male  51.0      0      0   \n",
       "\n",
       "        Fare Embarked  FamilySize  isAlone Title          FareBin  \\\n",
       "218  76.2917        C           1        0  Miss  (31.0, 512.329]   \n",
       "693   7.2250        C           1        0    Mr   (-0.001, 7.91]   \n",
       "778   7.7375        Q           1        0    Mr   (-0.001, 7.91]   \n",
       "884   7.0500        S           1        0    Mr   (-0.001, 7.91]   \n",
       "222   8.0500        S           1        0    Mr   (7.91, 14.454]   \n",
       "\n",
       "           AgeBin  \n",
       "218  (16.0, 32.0]  \n",
       "693  (16.0, 32.0]  \n",
       "778  (16.0, 32.0]  \n",
       "884  (16.0, 32.0]  \n",
       "222  (48.0, 64.0]  "
      ]
     },
     "execution_count": 8,
     "metadata": {},
     "output_type": "execute_result"
    }
   ],
   "source": [
    "df.sample(5)"
   ]
  },
  {
   "cell_type": "code",
   "execution_count": 9,
   "id": "61896b54",
   "metadata": {
    "execution": {
     "iopub.execute_input": "2025-06-18T12:01:14.699038Z",
     "iopub.status.busy": "2025-06-18T12:01:14.698691Z",
     "iopub.status.idle": "2025-06-18T12:01:14.720030Z",
     "shell.execute_reply": "2025-06-18T12:01:14.718856Z"
    },
    "papermill": {
     "duration": 0.028378,
     "end_time": "2025-06-18T12:01:14.722067",
     "exception": false,
     "start_time": "2025-06-18T12:01:14.693689",
     "status": "completed"
    },
    "tags": []
   },
   "outputs": [],
   "source": [
    "df.to_csv(\"titanic_fe.csv\", index=False)"
   ]
  },
  {
   "cell_type": "code",
   "execution_count": null,
   "id": "d7b59edc",
   "metadata": {
    "papermill": {
     "duration": 0.003301,
     "end_time": "2025-06-18T12:01:14.729191",
     "exception": false,
     "start_time": "2025-06-18T12:01:14.725890",
     "status": "completed"
    },
    "tags": []
   },
   "outputs": [],
   "source": []
  }
 ],
 "metadata": {
  "kaggle": {
   "accelerator": "none",
   "dataSources": [
    {
     "datasetId": 7689019,
     "sourceId": 12205978,
     "sourceType": "datasetVersion"
    }
   ],
   "dockerImageVersionId": 31040,
   "isGpuEnabled": false,
   "isInternetEnabled": true,
   "language": "python",
   "sourceType": "notebook"
  },
  "kernelspec": {
   "display_name": "Python 3",
   "language": "python",
   "name": "python3"
  },
  "language_info": {
   "codemirror_mode": {
    "name": "ipython",
    "version": 3
   },
   "file_extension": ".py",
   "mimetype": "text/x-python",
   "name": "python",
   "nbconvert_exporter": "python",
   "pygments_lexer": "ipython3",
   "version": "3.11.11"
  },
  "papermill": {
   "default_parameters": {},
   "duration": 8.523607,
   "end_time": "2025-06-18T12:01:15.456426",
   "environment_variables": {},
   "exception": null,
   "input_path": "__notebook__.ipynb",
   "output_path": "__notebook__.ipynb",
   "parameters": {},
   "start_time": "2025-06-18T12:01:06.932819",
   "version": "2.6.0"
  }
 },
 "nbformat": 4,
 "nbformat_minor": 5
}
