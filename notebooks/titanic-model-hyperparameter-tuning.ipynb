{
 "cells": [
  {
   "cell_type": "markdown",
   "id": "9d595296",
   "metadata": {
    "papermill": {
     "duration": 0.003258,
     "end_time": "2025-06-18T18:16:06.042158",
     "exception": false,
     "start_time": "2025-06-18T18:16:06.038900",
     "status": "completed"
    },
    "tags": []
   },
   "source": [
    "# 🛠️ Titanic Survival Prediction - Data Assessment & Cleaning\n",
    "\n",
    "This notebook is part of the Titanic Survival Prediction project. In this phase, we focus on Hyperparameter tuning the extra trees and randomforest model."
   ]
  },
  {
   "cell_type": "code",
   "execution_count": 1,
   "id": "3e36a961",
   "metadata": {
    "_cell_guid": "b1076dfc-b9ad-4769-8c92-a6c4dae69d19",
    "_uuid": "8f2839f25d086af736a60e9eeb907d3b93b6e0e5",
    "execution": {
     "iopub.execute_input": "2025-06-18T18:16:06.048883Z",
     "iopub.status.busy": "2025-06-18T18:16:06.048550Z",
     "iopub.status.idle": "2025-06-18T18:16:09.945344Z",
     "shell.execute_reply": "2025-06-18T18:16:09.944328Z"
    },
    "papermill": {
     "duration": 3.902079,
     "end_time": "2025-06-18T18:16:09.947130",
     "exception": false,
     "start_time": "2025-06-18T18:16:06.045051",
     "status": "completed"
    },
    "tags": []
   },
   "outputs": [],
   "source": [
    "import numpy as np\n",
    "import pandas as pd\n",
    "\n",
    "from sklearn.ensemble import ExtraTreesClassifier, RandomForestClassifier\n",
    "\n",
    "from sklearn.metrics import accuracy_score, precision_score, recall_score, roc_auc_score\n",
    "from sklearn.model_selection import train_test_split, cross_val_score, GridSearchCV"
   ]
  },
  {
   "cell_type": "code",
   "execution_count": 2,
   "id": "dfbe2125",
   "metadata": {
    "execution": {
     "iopub.execute_input": "2025-06-18T18:16:09.954199Z",
     "iopub.status.busy": "2025-06-18T18:16:09.953364Z",
     "iopub.status.idle": "2025-06-18T18:16:09.990826Z",
     "shell.execute_reply": "2025-06-18T18:16:09.990018Z"
    },
    "papermill": {
     "duration": 0.042716,
     "end_time": "2025-06-18T18:16:09.992611",
     "exception": false,
     "start_time": "2025-06-18T18:16:09.949895",
     "status": "completed"
    },
    "tags": []
   },
   "outputs": [],
   "source": [
    "df = pd.read_csv(\"/kaggle/input/titanic-features/titanic_features.csv\")\n",
    "X, y = df.drop(columns=[\"Survived\"]), df[\"Survived\"]\n",
    "\n",
    "X_train, X_test, y_train, y_test = train_test_split(X, y, test_size=0.2,\n",
    "                                                   random_state=42)"
   ]
  },
  {
   "cell_type": "code",
   "execution_count": 3,
   "id": "f82abc01",
   "metadata": {
    "execution": {
     "iopub.execute_input": "2025-06-18T18:16:09.999400Z",
     "iopub.status.busy": "2025-06-18T18:16:09.999067Z",
     "iopub.status.idle": "2025-06-18T18:16:27.171788Z",
     "shell.execute_reply": "2025-06-18T18:16:27.170706Z"
    },
    "papermill": {
     "duration": 17.178173,
     "end_time": "2025-06-18T18:16:27.173680",
     "exception": false,
     "start_time": "2025-06-18T18:16:09.995507",
     "status": "completed"
    },
    "tags": []
   },
   "outputs": [
    {
     "name": "stdout",
     "output_type": "stream",
     "text": [
      "Collecting mlflow==2.15.0\r\n",
      "  Downloading mlflow-2.15.0-py3-none-any.whl.metadata (29 kB)\r\n",
      "Collecting mlflow-skinny==2.15.0 (from mlflow==2.15.0)\r\n",
      "  Downloading mlflow_skinny-2.15.0-py3-none-any.whl.metadata (30 kB)\r\n",
      "Requirement already satisfied: Flask<4 in /usr/local/lib/python3.11/dist-packages (from mlflow==2.15.0) (3.1.0)\r\n",
      "Requirement already satisfied: alembic!=1.10.0,<2 in /usr/local/lib/python3.11/dist-packages (from mlflow==2.15.0) (1.15.2)\r\n",
      "Requirement already satisfied: docker<8,>=4.0.0 in /usr/local/lib/python3.11/dist-packages (from mlflow==2.15.0) (7.1.0)\r\n",
      "Collecting graphene<4 (from mlflow==2.15.0)\r\n",
      "  Downloading graphene-3.4.3-py2.py3-none-any.whl.metadata (6.9 kB)\r\n",
      "Requirement already satisfied: markdown<4,>=3.3 in /usr/local/lib/python3.11/dist-packages (from mlflow==2.15.0) (3.7)\r\n",
      "Requirement already satisfied: matplotlib<4 in /usr/local/lib/python3.11/dist-packages (from mlflow==2.15.0) (3.7.2)\r\n",
      "Requirement already satisfied: numpy<2 in /usr/local/lib/python3.11/dist-packages (from mlflow==2.15.0) (1.26.4)\r\n",
      "Requirement already satisfied: pandas<3 in /usr/local/lib/python3.11/dist-packages (from mlflow==2.15.0) (2.2.3)\r\n",
      "Collecting pyarrow<16,>=4.0.0 (from mlflow==2.15.0)\r\n",
      "  Downloading pyarrow-15.0.2-cp311-cp311-manylinux_2_28_x86_64.whl.metadata (3.0 kB)\r\n",
      "Collecting querystring-parser<2 (from mlflow==2.15.0)\r\n",
      "  Downloading querystring_parser-1.2.4-py2.py3-none-any.whl.metadata (559 bytes)\r\n",
      "Requirement already satisfied: scikit-learn<2 in /usr/local/lib/python3.11/dist-packages (from mlflow==2.15.0) (1.2.2)\r\n",
      "Requirement already satisfied: scipy<2 in /usr/local/lib/python3.11/dist-packages (from mlflow==2.15.0) (1.15.2)\r\n",
      "Requirement already satisfied: sqlalchemy<3,>=1.4.0 in /usr/local/lib/python3.11/dist-packages (from mlflow==2.15.0) (2.0.40)\r\n",
      "Requirement already satisfied: Jinja2<4,>=2.11 in /usr/local/lib/python3.11/dist-packages (from mlflow==2.15.0) (3.1.6)\r\n",
      "Collecting gunicorn<23 (from mlflow==2.15.0)\r\n",
      "  Downloading gunicorn-22.0.0-py3-none-any.whl.metadata (4.4 kB)\r\n",
      "Requirement already satisfied: cachetools<6,>=5.0.0 in /usr/local/lib/python3.11/dist-packages (from mlflow-skinny==2.15.0->mlflow==2.15.0) (5.5.2)\r\n",
      "Requirement already satisfied: click<9,>=7.0 in /usr/local/lib/python3.11/dist-packages (from mlflow-skinny==2.15.0->mlflow==2.15.0) (8.1.8)\r\n",
      "Requirement already satisfied: cloudpickle<4 in /usr/local/lib/python3.11/dist-packages (from mlflow-skinny==2.15.0->mlflow==2.15.0) (3.1.1)\r\n",
      "Collecting databricks-sdk<1,>=0.20.0 (from mlflow-skinny==2.15.0->mlflow==2.15.0)\r\n",
      "  Downloading databricks_sdk-0.57.0-py3-none-any.whl.metadata (39 kB)\r\n",
      "Requirement already satisfied: entrypoints<1 in /usr/local/lib/python3.11/dist-packages (from mlflow-skinny==2.15.0->mlflow==2.15.0) (0.4)\r\n",
      "Requirement already satisfied: gitpython<4,>=3.1.9 in /usr/local/lib/python3.11/dist-packages (from mlflow-skinny==2.15.0->mlflow==2.15.0) (3.1.44)\r\n",
      "Collecting importlib-metadata!=4.7.0,<8,>=3.7.0 (from mlflow-skinny==2.15.0->mlflow==2.15.0)\r\n",
      "  Downloading importlib_metadata-7.2.1-py3-none-any.whl.metadata (4.6 kB)\r\n",
      "Requirement already satisfied: opentelemetry-api<3,>=1.9.0 in /usr/local/lib/python3.11/dist-packages (from mlflow-skinny==2.15.0->mlflow==2.15.0) (1.31.1)\r\n",
      "Requirement already satisfied: opentelemetry-sdk<3,>=1.9.0 in /usr/local/lib/python3.11/dist-packages (from mlflow-skinny==2.15.0->mlflow==2.15.0) (1.31.1)\r\n",
      "Collecting packaging<25 (from mlflow-skinny==2.15.0->mlflow==2.15.0)\r\n",
      "  Downloading packaging-24.2-py3-none-any.whl.metadata (3.2 kB)\r\n",
      "Requirement already satisfied: protobuf<6,>=3.12.0 in /usr/local/lib/python3.11/dist-packages (from mlflow-skinny==2.15.0->mlflow==2.15.0) (3.20.3)\r\n",
      "Collecting pytz<2025 (from mlflow-skinny==2.15.0->mlflow==2.15.0)\r\n",
      "  Downloading pytz-2024.2-py2.py3-none-any.whl.metadata (22 kB)\r\n",
      "Requirement already satisfied: pyyaml<7,>=5.1 in /usr/local/lib/python3.11/dist-packages (from mlflow-skinny==2.15.0->mlflow==2.15.0) (6.0.2)\r\n",
      "Requirement already satisfied: requests<3,>=2.17.3 in /usr/local/lib/python3.11/dist-packages (from mlflow-skinny==2.15.0->mlflow==2.15.0) (2.32.3)\r\n",
      "Requirement already satisfied: sqlparse<1,>=0.4.0 in /usr/local/lib/python3.11/dist-packages (from mlflow-skinny==2.15.0->mlflow==2.15.0) (0.5.3)\r\n",
      "Requirement already satisfied: Mako in /usr/local/lib/python3.11/dist-packages (from alembic!=1.10.0,<2->mlflow==2.15.0) (1.3.10)\r\n",
      "Requirement already satisfied: typing-extensions>=4.12 in /usr/local/lib/python3.11/dist-packages (from alembic!=1.10.0,<2->mlflow==2.15.0) (4.13.2)\r\n",
      "Requirement already satisfied: urllib3>=1.26.0 in /usr/local/lib/python3.11/dist-packages (from docker<8,>=4.0.0->mlflow==2.15.0) (2.4.0)\r\n",
      "Requirement already satisfied: Werkzeug>=3.1 in /usr/local/lib/python3.11/dist-packages (from Flask<4->mlflow==2.15.0) (3.1.3)\r\n",
      "Requirement already satisfied: itsdangerous>=2.2 in /usr/local/lib/python3.11/dist-packages (from Flask<4->mlflow==2.15.0) (2.2.0)\r\n",
      "Requirement already satisfied: blinker>=1.9 in /usr/local/lib/python3.11/dist-packages (from Flask<4->mlflow==2.15.0) (1.9.0)\r\n",
      "Collecting graphql-core<3.3,>=3.1 (from graphene<4->mlflow==2.15.0)\r\n",
      "  Downloading graphql_core-3.2.6-py3-none-any.whl.metadata (11 kB)\r\n",
      "Collecting graphql-relay<3.3,>=3.1 (from graphene<4->mlflow==2.15.0)\r\n",
      "  Downloading graphql_relay-3.2.0-py3-none-any.whl.metadata (12 kB)\r\n",
      "Requirement already satisfied: python-dateutil<3,>=2.7.0 in /usr/local/lib/python3.11/dist-packages (from graphene<4->mlflow==2.15.0) (2.9.0.post0)\r\n",
      "Requirement already satisfied: MarkupSafe>=2.0 in /usr/local/lib/python3.11/dist-packages (from Jinja2<4,>=2.11->mlflow==2.15.0) (3.0.2)\r\n",
      "Requirement already satisfied: contourpy>=1.0.1 in /usr/local/lib/python3.11/dist-packages (from matplotlib<4->mlflow==2.15.0) (1.3.1)\r\n",
      "Requirement already satisfied: cycler>=0.10 in /usr/local/lib/python3.11/dist-packages (from matplotlib<4->mlflow==2.15.0) (0.12.1)\r\n",
      "Requirement already satisfied: fonttools>=4.22.0 in /usr/local/lib/python3.11/dist-packages (from matplotlib<4->mlflow==2.15.0) (4.57.0)\r\n",
      "Requirement already satisfied: kiwisolver>=1.0.1 in /usr/local/lib/python3.11/dist-packages (from matplotlib<4->mlflow==2.15.0) (1.4.8)\r\n",
      "Requirement already satisfied: pillow>=6.2.0 in /usr/local/lib/python3.11/dist-packages (from matplotlib<4->mlflow==2.15.0) (11.1.0)\r\n",
      "Requirement already satisfied: pyparsing<3.1,>=2.3.1 in /usr/local/lib/python3.11/dist-packages (from matplotlib<4->mlflow==2.15.0) (3.0.9)\r\n",
      "Requirement already satisfied: mkl_fft in /usr/local/lib/python3.11/dist-packages (from numpy<2->mlflow==2.15.0) (1.3.8)\r\n",
      "Requirement already satisfied: mkl_random in /usr/local/lib/python3.11/dist-packages (from numpy<2->mlflow==2.15.0) (1.2.4)\r\n",
      "Requirement already satisfied: mkl_umath in /usr/local/lib/python3.11/dist-packages (from numpy<2->mlflow==2.15.0) (0.1.1)\r\n",
      "Requirement already satisfied: mkl in /usr/local/lib/python3.11/dist-packages (from numpy<2->mlflow==2.15.0) (2025.1.0)\r\n",
      "Requirement already satisfied: tbb4py in /usr/local/lib/python3.11/dist-packages (from numpy<2->mlflow==2.15.0) (2022.1.0)\r\n",
      "Requirement already satisfied: mkl-service in /usr/local/lib/python3.11/dist-packages (from numpy<2->mlflow==2.15.0) (2.4.1)\r\n",
      "Requirement already satisfied: tzdata>=2022.7 in /usr/local/lib/python3.11/dist-packages (from pandas<3->mlflow==2.15.0) (2025.2)\r\n",
      "Requirement already satisfied: six in /usr/local/lib/python3.11/dist-packages (from querystring-parser<2->mlflow==2.15.0) (1.17.0)\r\n",
      "Requirement already satisfied: joblib>=1.1.1 in /usr/local/lib/python3.11/dist-packages (from scikit-learn<2->mlflow==2.15.0) (1.5.0)\r\n",
      "Requirement already satisfied: threadpoolctl>=2.0.0 in /usr/local/lib/python3.11/dist-packages (from scikit-learn<2->mlflow==2.15.0) (3.6.0)\r\n",
      "Requirement already satisfied: greenlet>=1 in /usr/local/lib/python3.11/dist-packages (from sqlalchemy<3,>=1.4.0->mlflow==2.15.0) (3.1.1)\r\n",
      "Requirement already satisfied: google-auth~=2.0 in /usr/local/lib/python3.11/dist-packages (from databricks-sdk<1,>=0.20.0->mlflow-skinny==2.15.0->mlflow==2.15.0) (2.40.1)\r\n",
      "Requirement already satisfied: gitdb<5,>=4.0.1 in /usr/local/lib/python3.11/dist-packages (from gitpython<4,>=3.1.9->mlflow-skinny==2.15.0->mlflow==2.15.0) (4.0.12)\r\n",
      "Requirement already satisfied: zipp>=0.5 in /usr/local/lib/python3.11/dist-packages (from importlib-metadata!=4.7.0,<8,>=3.7.0->mlflow-skinny==2.15.0->mlflow==2.15.0) (3.21.0)\r\n",
      "Requirement already satisfied: deprecated>=1.2.6 in /usr/local/lib/python3.11/dist-packages (from opentelemetry-api<3,>=1.9.0->mlflow-skinny==2.15.0->mlflow==2.15.0) (1.2.18)\r\n",
      "Requirement already satisfied: opentelemetry-semantic-conventions==0.52b1 in /usr/local/lib/python3.11/dist-packages (from opentelemetry-sdk<3,>=1.9.0->mlflow-skinny==2.15.0->mlflow==2.15.0) (0.52b1)\r\n",
      "Requirement already satisfied: charset-normalizer<4,>=2 in /usr/local/lib/python3.11/dist-packages (from requests<3,>=2.17.3->mlflow-skinny==2.15.0->mlflow==2.15.0) (3.4.2)\r\n",
      "Requirement already satisfied: idna<4,>=2.5 in /usr/local/lib/python3.11/dist-packages (from requests<3,>=2.17.3->mlflow-skinny==2.15.0->mlflow==2.15.0) (3.10)\r\n",
      "Requirement already satisfied: certifi>=2017.4.17 in /usr/local/lib/python3.11/dist-packages (from requests<3,>=2.17.3->mlflow-skinny==2.15.0->mlflow==2.15.0) (2025.4.26)\r\n",
      "Requirement already satisfied: intel-openmp<2026,>=2024 in /usr/local/lib/python3.11/dist-packages (from mkl->numpy<2->mlflow==2.15.0) (2024.2.0)\r\n",
      "Requirement already satisfied: tbb==2022.* in /usr/local/lib/python3.11/dist-packages (from mkl->numpy<2->mlflow==2.15.0) (2022.1.0)\r\n",
      "Requirement already satisfied: tcmlib==1.* in /usr/local/lib/python3.11/dist-packages (from tbb==2022.*->mkl->numpy<2->mlflow==2.15.0) (1.3.0)\r\n",
      "Requirement already satisfied: intel-cmplr-lib-rt in /usr/local/lib/python3.11/dist-packages (from mkl_umath->numpy<2->mlflow==2.15.0) (2024.2.0)\r\n",
      "Requirement already satisfied: wrapt<2,>=1.10 in /usr/local/lib/python3.11/dist-packages (from deprecated>=1.2.6->opentelemetry-api<3,>=1.9.0->mlflow-skinny==2.15.0->mlflow==2.15.0) (1.17.2)\r\n",
      "Requirement already satisfied: smmap<6,>=3.0.1 in /usr/local/lib/python3.11/dist-packages (from gitdb<5,>=4.0.1->gitpython<4,>=3.1.9->mlflow-skinny==2.15.0->mlflow==2.15.0) (5.0.2)\r\n",
      "Requirement already satisfied: pyasn1-modules>=0.2.1 in /usr/local/lib/python3.11/dist-packages (from google-auth~=2.0->databricks-sdk<1,>=0.20.0->mlflow-skinny==2.15.0->mlflow==2.15.0) (0.4.2)\r\n",
      "Requirement already satisfied: rsa<5,>=3.1.4 in /usr/local/lib/python3.11/dist-packages (from google-auth~=2.0->databricks-sdk<1,>=0.20.0->mlflow-skinny==2.15.0->mlflow==2.15.0) (4.9.1)\r\n",
      "Requirement already satisfied: intel-cmplr-lib-ur==2024.2.0 in /usr/local/lib/python3.11/dist-packages (from intel-openmp<2026,>=2024->mkl->numpy<2->mlflow==2.15.0) (2024.2.0)\r\n",
      "Requirement already satisfied: pyasn1<0.7.0,>=0.6.1 in /usr/local/lib/python3.11/dist-packages (from pyasn1-modules>=0.2.1->google-auth~=2.0->databricks-sdk<1,>=0.20.0->mlflow-skinny==2.15.0->mlflow==2.15.0) (0.6.1)\r\n",
      "Downloading mlflow-2.15.0-py3-none-any.whl (26.3 MB)\r\n",
      "\u001b[2K   \u001b[90m━━━━━━━━━━━━━━━━━━━━━━━━━━━━━━━━━━━━━━━━\u001b[0m \u001b[32m26.3/26.3 MB\u001b[0m \u001b[31m23.5 MB/s\u001b[0m eta \u001b[36m0:00:00\u001b[0m\r\n",
      "\u001b[?25hDownloading mlflow_skinny-2.15.0-py3-none-any.whl (5.5 MB)\r\n",
      "\u001b[2K   \u001b[90m━━━━━━━━━━━━━━━━━━━━━━━━━━━━━━━━━━━━━━━━\u001b[0m \u001b[32m5.5/5.5 MB\u001b[0m \u001b[31m93.5 MB/s\u001b[0m eta \u001b[36m0:00:00\u001b[0m\r\n",
      "\u001b[?25hDownloading graphene-3.4.3-py2.py3-none-any.whl (114 kB)\r\n",
      "\u001b[2K   \u001b[90m━━━━━━━━━━━━━━━━━━━━━━━━━━━━━━━━━━━━━━━━\u001b[0m \u001b[32m114.9/114.9 kB\u001b[0m \u001b[31m6.9 MB/s\u001b[0m eta \u001b[36m0:00:00\u001b[0m\r\n",
      "\u001b[?25hDownloading gunicorn-22.0.0-py3-none-any.whl (84 kB)\r\n",
      "\u001b[2K   \u001b[90m━━━━━━━━━━━━━━━━━━━━━━━━━━━━━━━━━━━━━━━━\u001b[0m \u001b[32m84.4/84.4 kB\u001b[0m \u001b[31m4.9 MB/s\u001b[0m eta \u001b[36m0:00:00\u001b[0m\r\n",
      "\u001b[?25hDownloading pyarrow-15.0.2-cp311-cp311-manylinux_2_28_x86_64.whl (38.3 MB)\r\n",
      "\u001b[2K   \u001b[90m━━━━━━━━━━━━━━━━━━━━━━━━━━━━━━━━━━━━━━━━\u001b[0m \u001b[32m38.3/38.3 MB\u001b[0m \u001b[31m42.4 MB/s\u001b[0m eta \u001b[36m0:00:00\u001b[0m\r\n",
      "\u001b[?25hDownloading querystring_parser-1.2.4-py2.py3-none-any.whl (7.9 kB)\r\n",
      "Downloading databricks_sdk-0.57.0-py3-none-any.whl (733 kB)\r\n",
      "\u001b[2K   \u001b[90m━━━━━━━━━━━━━━━━━━━━━━━━━━━━━━━━━━━━━━━━\u001b[0m \u001b[32m733.8/733.8 kB\u001b[0m \u001b[31m34.6 MB/s\u001b[0m eta \u001b[36m0:00:00\u001b[0m\r\n",
      "\u001b[?25hDownloading graphql_core-3.2.6-py3-none-any.whl (203 kB)\r\n",
      "\u001b[2K   \u001b[90m━━━━━━━━━━━━━━━━━━━━━━━━━━━━━━━━━━━━━━━━\u001b[0m \u001b[32m203.4/203.4 kB\u001b[0m \u001b[31m12.3 MB/s\u001b[0m eta \u001b[36m0:00:00\u001b[0m\r\n",
      "\u001b[?25hDownloading graphql_relay-3.2.0-py3-none-any.whl (16 kB)\r\n",
      "Downloading importlib_metadata-7.2.1-py3-none-any.whl (25 kB)\r\n",
      "Downloading packaging-24.2-py3-none-any.whl (65 kB)\r\n",
      "\u001b[2K   \u001b[90m━━━━━━━━━━━━━━━━━━━━━━━━━━━━━━━━━━━━━━━━\u001b[0m \u001b[32m65.5/65.5 kB\u001b[0m \u001b[31m3.5 MB/s\u001b[0m eta \u001b[36m0:00:00\u001b[0m\r\n",
      "\u001b[?25hDownloading pytz-2024.2-py2.py3-none-any.whl (508 kB)\r\n",
      "\u001b[2K   \u001b[90m━━━━━━━━━━━━━━━━━━━━━━━━━━━━━━━━━━━━━━━━\u001b[0m \u001b[32m508.0/508.0 kB\u001b[0m \u001b[31m21.0 MB/s\u001b[0m eta \u001b[36m0:00:00\u001b[0m\r\n",
      "\u001b[?25hInstalling collected packages: pytz, querystring-parser, packaging, importlib-metadata, graphql-core, gunicorn, graphql-relay, graphene, databricks-sdk, mlflow-skinny, pyarrow, mlflow\r\n",
      "  Attempting uninstall: pytz\r\n",
      "    Found existing installation: pytz 2025.2\r\n",
      "    Uninstalling pytz-2025.2:\r\n",
      "      Successfully uninstalled pytz-2025.2\r\n",
      "  Attempting uninstall: packaging\r\n",
      "    Found existing installation: packaging 25.0\r\n",
      "    Uninstalling packaging-25.0:\r\n",
      "      Successfully uninstalled packaging-25.0\r\n",
      "  Attempting uninstall: importlib-metadata\r\n",
      "    Found existing installation: importlib_metadata 8.7.0\r\n",
      "    Uninstalling importlib_metadata-8.7.0:\r\n",
      "      Successfully uninstalled importlib_metadata-8.7.0\r\n",
      "  Attempting uninstall: pyarrow\r\n",
      "    Found existing installation: pyarrow 19.0.1\r\n",
      "    Uninstalling pyarrow-19.0.1:\r\n",
      "      Successfully uninstalled pyarrow-19.0.1\r\n",
      "\u001b[31mERROR: pip's dependency resolver does not currently take into account all the packages that are installed. This behaviour is the source of the following dependency conflicts.\r\n",
      "datasets 3.6.0 requires fsspec[http]<=2025.3.0,>=2023.1.0, but you have fsspec 2025.3.2 which is incompatible.\r\n",
      "cesium 0.12.4 requires numpy<3.0,>=2.0, but you have numpy 1.26.4 which is incompatible.\r\n",
      "google-colab 1.0.0 requires google-auth==2.38.0, but you have google-auth 2.40.1 which is incompatible.\r\n",
      "google-colab 1.0.0 requires notebook==6.5.7, but you have notebook 6.5.4 which is incompatible.\r\n",
      "google-colab 1.0.0 requires pandas==2.2.2, but you have pandas 2.2.3 which is incompatible.\r\n",
      "dopamine-rl 4.1.2 requires gymnasium>=1.0.0, but you have gymnasium 0.29.0 which is incompatible.\r\n",
      "ibis-framework 9.5.0 requires toolz<1,>=0.11, but you have toolz 1.0.0 which is incompatible.\r\n",
      "bigframes 1.42.0 requires rich<14,>=12.4.4, but you have rich 14.0.0 which is incompatible.\r\n",
      "plotnine 0.14.5 requires matplotlib>=3.8.0, but you have matplotlib 3.7.2 which is incompatible.\r\n",
      "pandas-gbq 0.28.0 requires google-api-core<3.0.0dev,>=2.10.2, but you have google-api-core 1.34.1 which is incompatible.\r\n",
      "mlxtend 0.23.4 requires scikit-learn>=1.3.1, but you have scikit-learn 1.2.2 which is incompatible.\u001b[0m\u001b[31m\r\n",
      "\u001b[0mSuccessfully installed databricks-sdk-0.57.0 graphene-3.4.3 graphql-core-3.2.6 graphql-relay-3.2.0 gunicorn-22.0.0 importlib-metadata-7.2.1 mlflow-2.15.0 mlflow-skinny-2.15.0 packaging-24.2 pyarrow-15.0.2 pytz-2024.2 querystring-parser-1.2.4\r\n"
     ]
    }
   ],
   "source": [
    "!pip install mlflow==2.15.0"
   ]
  },
  {
   "cell_type": "code",
   "execution_count": 4,
   "id": "405abbf7",
   "metadata": {
    "execution": {
     "iopub.execute_input": "2025-06-18T18:16:27.188504Z",
     "iopub.status.busy": "2025-06-18T18:16:27.187514Z",
     "iopub.status.idle": "2025-06-18T18:16:37.571290Z",
     "shell.execute_reply": "2025-06-18T18:16:37.570174Z"
    },
    "papermill": {
     "duration": 10.392802,
     "end_time": "2025-06-18T18:16:37.573053",
     "exception": false,
     "start_time": "2025-06-18T18:16:27.180251",
     "status": "completed"
    },
    "tags": []
   },
   "outputs": [
    {
     "name": "stdout",
     "output_type": "stream",
     "text": [
      "Collecting dagshub==0.3.34\r\n",
      "  Downloading dagshub-0.3.34-py3-none-any.whl.metadata (11 kB)\r\n",
      "Requirement already satisfied: PyYAML>=5 in /usr/local/lib/python3.11/dist-packages (from dagshub==0.3.34) (6.0.2)\r\n",
      "Collecting fusepy>=3 (from dagshub==0.3.34)\r\n",
      "  Downloading fusepy-3.0.1.tar.gz (11 kB)\r\n",
      "  Preparing metadata (setup.py) ... \u001b[?25l\u001b[?25hdone\r\n",
      "Collecting appdirs>=1.4.4 (from dagshub==0.3.34)\r\n",
      "  Downloading appdirs-1.4.4-py2.py3-none-any.whl.metadata (9.0 kB)\r\n",
      "Requirement already satisfied: click>=8.0.4 in /usr/local/lib/python3.11/dist-packages (from dagshub==0.3.34) (8.1.8)\r\n",
      "Collecting httpx~=0.23.0 (from dagshub==0.3.34)\r\n",
      "  Downloading httpx-0.23.3-py3-none-any.whl.metadata (7.1 kB)\r\n",
      "Requirement already satisfied: GitPython>=3.1.29 in /usr/local/lib/python3.11/dist-packages (from dagshub==0.3.34) (3.1.44)\r\n",
      "Collecting rich~=13.1.0 (from dagshub==0.3.34)\r\n",
      "  Downloading rich-13.1.0-py3-none-any.whl.metadata (18 kB)\r\n",
      "Collecting dacite~=1.6.0 (from dagshub==0.3.34)\r\n",
      "  Downloading dacite-1.6.0-py3-none-any.whl.metadata (14 kB)\r\n",
      "Collecting tenacity~=8.2.2 (from dagshub==0.3.34)\r\n",
      "  Downloading tenacity-8.2.3-py3-none-any.whl.metadata (1.0 kB)\r\n",
      "Collecting gql[requests] (from dagshub==0.3.34)\r\n",
      "  Downloading gql-3.5.3-py2.py3-none-any.whl.metadata (9.4 kB)\r\n",
      "Requirement already satisfied: dataclasses-json in /usr/local/lib/python3.11/dist-packages (from dagshub==0.3.34) (0.6.7)\r\n",
      "Requirement already satisfied: pandas in /usr/local/lib/python3.11/dist-packages (from dagshub==0.3.34) (2.2.3)\r\n",
      "Collecting treelib~=1.6.4 (from dagshub==0.3.34)\r\n",
      "  Downloading treelib-1.6.4-py3-none-any.whl.metadata (1.4 kB)\r\n",
      "Collecting pathvalidate~=3.0.0 (from dagshub==0.3.34)\r\n",
      "  Downloading pathvalidate-3.0.0-py3-none-any.whl.metadata (11 kB)\r\n",
      "Requirement already satisfied: python-dateutil in /usr/local/lib/python3.11/dist-packages (from dagshub==0.3.34) (2.9.0.post0)\r\n",
      "Requirement already satisfied: boto3 in /usr/local/lib/python3.11/dist-packages (from dagshub==0.3.34) (1.38.11)\r\n",
      "Requirement already satisfied: gitdb<5,>=4.0.1 in /usr/local/lib/python3.11/dist-packages (from GitPython>=3.1.29->dagshub==0.3.34) (4.0.12)\r\n",
      "Requirement already satisfied: certifi in /usr/local/lib/python3.11/dist-packages (from httpx~=0.23.0->dagshub==0.3.34) (2025.4.26)\r\n",
      "Collecting httpcore<0.17.0,>=0.15.0 (from httpx~=0.23.0->dagshub==0.3.34)\r\n",
      "  Downloading httpcore-0.16.3-py3-none-any.whl.metadata (16 kB)\r\n",
      "Collecting rfc3986<2,>=1.3 (from rfc3986[idna2008]<2,>=1.3->httpx~=0.23.0->dagshub==0.3.34)\r\n",
      "  Downloading rfc3986-1.5.0-py2.py3-none-any.whl.metadata (6.5 kB)\r\n",
      "Requirement already satisfied: sniffio in /usr/local/lib/python3.11/dist-packages (from httpx~=0.23.0->dagshub==0.3.34) (1.3.1)\r\n",
      "Collecting commonmark<0.10.0,>=0.9.0 (from rich~=13.1.0->dagshub==0.3.34)\r\n",
      "  Downloading commonmark-0.9.1-py2.py3-none-any.whl.metadata (5.7 kB)\r\n",
      "Requirement already satisfied: pygments<3.0.0,>=2.6.0 in /usr/local/lib/python3.11/dist-packages (from rich~=13.1.0->dagshub==0.3.34) (2.19.1)\r\n",
      "Requirement already satisfied: six in /usr/local/lib/python3.11/dist-packages (from treelib~=1.6.4->dagshub==0.3.34) (1.17.0)\r\n",
      "Requirement already satisfied: botocore<1.39.0,>=1.38.11 in /usr/local/lib/python3.11/dist-packages (from boto3->dagshub==0.3.34) (1.38.11)\r\n",
      "Requirement already satisfied: jmespath<2.0.0,>=0.7.1 in /usr/local/lib/python3.11/dist-packages (from boto3->dagshub==0.3.34) (1.0.1)\r\n",
      "Requirement already satisfied: s3transfer<0.13.0,>=0.12.0 in /usr/local/lib/python3.11/dist-packages (from boto3->dagshub==0.3.34) (0.12.0)\r\n",
      "Requirement already satisfied: marshmallow<4.0.0,>=3.18.0 in /usr/local/lib/python3.11/dist-packages (from dataclasses-json->dagshub==0.3.34) (3.26.1)\r\n",
      "Requirement already satisfied: typing-inspect<1,>=0.4.0 in /usr/local/lib/python3.11/dist-packages (from dataclasses-json->dagshub==0.3.34) (0.9.0)\r\n",
      "Requirement already satisfied: graphql-core<3.2.7,>=3.2 in /usr/local/lib/python3.11/dist-packages (from gql[requests]->dagshub==0.3.34) (3.2.6)\r\n",
      "Requirement already satisfied: yarl<2.0,>=1.6 in /usr/local/lib/python3.11/dist-packages (from gql[requests]->dagshub==0.3.34) (1.20.0)\r\n",
      "Collecting backoff<3.0,>=1.11.1 (from gql[requests]->dagshub==0.3.34)\r\n",
      "  Downloading backoff-2.2.1-py3-none-any.whl.metadata (14 kB)\r\n",
      "Requirement already satisfied: anyio<5,>=3.0 in /usr/local/lib/python3.11/dist-packages (from gql[requests]->dagshub==0.3.34) (4.9.0)\r\n",
      "Requirement already satisfied: requests<3,>=2.26 in /usr/local/lib/python3.11/dist-packages (from gql[requests]->dagshub==0.3.34) (2.32.3)\r\n",
      "Requirement already satisfied: requests-toolbelt<2,>=1.0.0 in /usr/local/lib/python3.11/dist-packages (from gql[requests]->dagshub==0.3.34) (1.0.0)\r\n",
      "Requirement already satisfied: numpy>=1.23.2 in /usr/local/lib/python3.11/dist-packages (from pandas->dagshub==0.3.34) (1.26.4)\r\n",
      "Requirement already satisfied: pytz>=2020.1 in /usr/local/lib/python3.11/dist-packages (from pandas->dagshub==0.3.34) (2024.2)\r\n",
      "Requirement already satisfied: tzdata>=2022.7 in /usr/local/lib/python3.11/dist-packages (from pandas->dagshub==0.3.34) (2025.2)\r\n",
      "Requirement already satisfied: idna>=2.8 in /usr/local/lib/python3.11/dist-packages (from anyio<5,>=3.0->gql[requests]->dagshub==0.3.34) (3.10)\r\n",
      "Requirement already satisfied: typing_extensions>=4.5 in /usr/local/lib/python3.11/dist-packages (from anyio<5,>=3.0->gql[requests]->dagshub==0.3.34) (4.13.2)\r\n",
      "Requirement already satisfied: urllib3!=2.2.0,<3,>=1.25.4 in /usr/local/lib/python3.11/dist-packages (from botocore<1.39.0,>=1.38.11->boto3->dagshub==0.3.34) (2.4.0)\r\n",
      "Requirement already satisfied: smmap<6,>=3.0.1 in /usr/local/lib/python3.11/dist-packages (from gitdb<5,>=4.0.1->GitPython>=3.1.29->dagshub==0.3.34) (5.0.2)\r\n",
      "Requirement already satisfied: h11<0.15,>=0.13 in /usr/local/lib/python3.11/dist-packages (from httpcore<0.17.0,>=0.15.0->httpx~=0.23.0->dagshub==0.3.34) (0.14.0)\r\n",
      "Requirement already satisfied: packaging>=17.0 in /usr/local/lib/python3.11/dist-packages (from marshmallow<4.0.0,>=3.18.0->dataclasses-json->dagshub==0.3.34) (24.2)\r\n",
      "Requirement already satisfied: mkl_fft in /usr/local/lib/python3.11/dist-packages (from numpy>=1.23.2->pandas->dagshub==0.3.34) (1.3.8)\r\n",
      "Requirement already satisfied: mkl_random in /usr/local/lib/python3.11/dist-packages (from numpy>=1.23.2->pandas->dagshub==0.3.34) (1.2.4)\r\n",
      "Requirement already satisfied: mkl_umath in /usr/local/lib/python3.11/dist-packages (from numpy>=1.23.2->pandas->dagshub==0.3.34) (0.1.1)\r\n",
      "Requirement already satisfied: mkl in /usr/local/lib/python3.11/dist-packages (from numpy>=1.23.2->pandas->dagshub==0.3.34) (2025.1.0)\r\n",
      "Requirement already satisfied: tbb4py in /usr/local/lib/python3.11/dist-packages (from numpy>=1.23.2->pandas->dagshub==0.3.34) (2022.1.0)\r\n",
      "Requirement already satisfied: mkl-service in /usr/local/lib/python3.11/dist-packages (from numpy>=1.23.2->pandas->dagshub==0.3.34) (2.4.1)\r\n",
      "Requirement already satisfied: charset-normalizer<4,>=2 in /usr/local/lib/python3.11/dist-packages (from requests<3,>=2.26->gql[requests]->dagshub==0.3.34) (3.4.2)\r\n",
      "Requirement already satisfied: mypy-extensions>=0.3.0 in /usr/local/lib/python3.11/dist-packages (from typing-inspect<1,>=0.4.0->dataclasses-json->dagshub==0.3.34) (1.1.0)\r\n",
      "Requirement already satisfied: multidict>=4.0 in /usr/local/lib/python3.11/dist-packages (from yarl<2.0,>=1.6->gql[requests]->dagshub==0.3.34) (6.4.3)\r\n",
      "Requirement already satisfied: propcache>=0.2.1 in /usr/local/lib/python3.11/dist-packages (from yarl<2.0,>=1.6->gql[requests]->dagshub==0.3.34) (0.3.1)\r\n",
      "Requirement already satisfied: intel-openmp<2026,>=2024 in /usr/local/lib/python3.11/dist-packages (from mkl->numpy>=1.23.2->pandas->dagshub==0.3.34) (2024.2.0)\r\n",
      "Requirement already satisfied: tbb==2022.* in /usr/local/lib/python3.11/dist-packages (from mkl->numpy>=1.23.2->pandas->dagshub==0.3.34) (2022.1.0)\r\n",
      "Requirement already satisfied: tcmlib==1.* in /usr/local/lib/python3.11/dist-packages (from tbb==2022.*->mkl->numpy>=1.23.2->pandas->dagshub==0.3.34) (1.3.0)\r\n",
      "Requirement already satisfied: intel-cmplr-lib-rt in /usr/local/lib/python3.11/dist-packages (from mkl_umath->numpy>=1.23.2->pandas->dagshub==0.3.34) (2024.2.0)\r\n",
      "Requirement already satisfied: intel-cmplr-lib-ur==2024.2.0 in /usr/local/lib/python3.11/dist-packages (from intel-openmp<2026,>=2024->mkl->numpy>=1.23.2->pandas->dagshub==0.3.34) (2024.2.0)\r\n",
      "Downloading dagshub-0.3.34-py3-none-any.whl (236 kB)\r\n",
      "\u001b[2K   \u001b[90m━━━━━━━━━━━━━━━━━━━━━━━━━━━━━━━━━━━━━━━━\u001b[0m \u001b[32m236.6/236.6 kB\u001b[0m \u001b[31m10.0 MB/s\u001b[0m eta \u001b[36m0:00:00\u001b[0m\r\n",
      "\u001b[?25hDownloading appdirs-1.4.4-py2.py3-none-any.whl (9.6 kB)\r\n",
      "Downloading dacite-1.6.0-py3-none-any.whl (12 kB)\r\n",
      "Downloading httpx-0.23.3-py3-none-any.whl (71 kB)\r\n",
      "\u001b[2K   \u001b[90m━━━━━━━━━━━━━━━━━━━━━━━━━━━━━━━━━━━━━━━━\u001b[0m \u001b[32m71.5/71.5 kB\u001b[0m \u001b[31m3.6 MB/s\u001b[0m eta \u001b[36m0:00:00\u001b[0m\r\n",
      "\u001b[?25hDownloading pathvalidate-3.0.0-py3-none-any.whl (21 kB)\r\n",
      "Downloading rich-13.1.0-py3-none-any.whl (238 kB)\r\n",
      "\u001b[2K   \u001b[90m━━━━━━━━━━━━━━━━━━━━━━━━━━━━━━━━━━━━━━━━\u001b[0m \u001b[32m238.4/238.4 kB\u001b[0m \u001b[31m12.2 MB/s\u001b[0m eta \u001b[36m0:00:00\u001b[0m\r\n",
      "\u001b[?25hDownloading tenacity-8.2.3-py3-none-any.whl (24 kB)\r\n",
      "Downloading treelib-1.6.4-py3-none-any.whl (18 kB)\r\n",
      "Downloading backoff-2.2.1-py3-none-any.whl (15 kB)\r\n",
      "Downloading commonmark-0.9.1-py2.py3-none-any.whl (51 kB)\r\n",
      "\u001b[2K   \u001b[90m━━━━━━━━━━━━━━━━━━━━━━━━━━━━━━━━━━━━━━━━\u001b[0m \u001b[32m51.1/51.1 kB\u001b[0m \u001b[31m2.6 MB/s\u001b[0m eta \u001b[36m0:00:00\u001b[0m\r\n",
      "\u001b[?25hDownloading httpcore-0.16.3-py3-none-any.whl (69 kB)\r\n",
      "\u001b[2K   \u001b[90m━━━━━━━━━━━━━━━━━━━━━━━━━━━━━━━━━━━━━━━━\u001b[0m \u001b[32m69.6/69.6 kB\u001b[0m \u001b[31m3.7 MB/s\u001b[0m eta \u001b[36m0:00:00\u001b[0m\r\n",
      "\u001b[?25hDownloading rfc3986-1.5.0-py2.py3-none-any.whl (31 kB)\r\n",
      "Downloading gql-3.5.3-py2.py3-none-any.whl (74 kB)\r\n",
      "\u001b[2K   \u001b[90m━━━━━━━━━━━━━━━━━━━━━━━━━━━━━━━━━━━━━━━━\u001b[0m \u001b[32m74.3/74.3 kB\u001b[0m \u001b[31m3.8 MB/s\u001b[0m eta \u001b[36m0:00:00\u001b[0m\r\n",
      "\u001b[?25hBuilding wheels for collected packages: fusepy\r\n",
      "  Building wheel for fusepy (setup.py) ... \u001b[?25l\u001b[?25hdone\r\n",
      "  Created wheel for fusepy: filename=fusepy-3.0.1-py3-none-any.whl size=10486 sha256=06ece4dffebb0923dc9b67e24e07c700df861b0068f96ec0272b0299355f660f\r\n",
      "  Stored in directory: /root/.cache/pip/wheels/db/4a/86/fdda91f8b8ebb0a70e4181dc2423b1f70c3c2d3bd1158685b5\r\n",
      "Successfully built fusepy\r\n",
      "Installing collected packages: rfc3986, fusepy, commonmark, appdirs, treelib, tenacity, rich, pathvalidate, dacite, backoff, httpcore, gql, httpx, dagshub\r\n",
      "  Attempting uninstall: tenacity\r\n",
      "    Found existing installation: tenacity 9.1.2\r\n",
      "    Uninstalling tenacity-9.1.2:\r\n",
      "      Successfully uninstalled tenacity-9.1.2\r\n",
      "  Attempting uninstall: rich\r\n",
      "    Found existing installation: rich 14.0.0\r\n",
      "    Uninstalling rich-14.0.0:\r\n",
      "      Successfully uninstalled rich-14.0.0\r\n",
      "  Attempting uninstall: dacite\r\n",
      "    Found existing installation: dacite 1.9.2\r\n",
      "    Uninstalling dacite-1.9.2:\r\n",
      "      Successfully uninstalled dacite-1.9.2\r\n",
      "  Attempting uninstall: httpcore\r\n",
      "    Found existing installation: httpcore 1.0.7\r\n",
      "    Uninstalling httpcore-1.0.7:\r\n",
      "      Successfully uninstalled httpcore-1.0.7\r\n",
      "  Attempting uninstall: httpx\r\n",
      "    Found existing installation: httpx 0.28.1\r\n",
      "    Uninstalling httpx-0.28.1:\r\n",
      "      Successfully uninstalled httpx-0.28.1\r\n",
      "\u001b[31mERROR: pip's dependency resolver does not currently take into account all the packages that are installed. This behaviour is the source of the following dependency conflicts.\r\n",
      "ydata-profiling 4.16.1 requires dacite>=1.8, but you have dacite 1.6.0 which is incompatible.\r\n",
      "pymc 5.21.2 requires rich>=13.7.1, but you have rich 13.1.0 which is incompatible.\r\n",
      "google-genai 1.9.0 requires httpx<1.0.0,>=0.28.1, but you have httpx 0.23.3 which is incompatible.\u001b[0m\u001b[31m\r\n",
      "\u001b[0mSuccessfully installed appdirs-1.4.4 backoff-2.2.1 commonmark-0.9.1 dacite-1.6.0 dagshub-0.3.34 fusepy-3.0.1 gql-3.5.3 httpcore-0.16.3 httpx-0.23.3 pathvalidate-3.0.0 rfc3986-1.5.0 rich-13.1.0 tenacity-8.2.3 treelib-1.6.4\r\n"
     ]
    }
   ],
   "source": [
    "!pip install dagshub==0.3.34"
   ]
  },
  {
   "cell_type": "code",
   "execution_count": 5,
   "id": "2d4ad208",
   "metadata": {
    "execution": {
     "iopub.execute_input": "2025-06-18T18:16:37.592208Z",
     "iopub.status.busy": "2025-06-18T18:16:37.591839Z",
     "iopub.status.idle": "2025-06-18T18:16:40.369847Z",
     "shell.execute_reply": "2025-06-18T18:16:40.369083Z"
    },
    "papermill": {
     "duration": 2.789149,
     "end_time": "2025-06-18T18:16:40.371440",
     "exception": false,
     "start_time": "2025-06-18T18:16:37.582291",
     "status": "completed"
    },
    "tags": []
   },
   "outputs": [],
   "source": [
    "import mlflow\n",
    "import mlflow.sklearn\n",
    "import dagshub\n",
    "import os\n",
    "\n",
    "from kaggle_secrets import UserSecretsClient\n",
    "user_secrets = UserSecretsClient()\n",
    "dagshub_token = user_secrets.get_secret(\"DAGSHUB_PAT\")\n",
    "\n",
    "if not dagshub_token:\n",
    "    raise EnvironmentError(\"DAGSHUB_PAT environment variable is not set\")\n",
    "\n",
    "os.environ[\"MLFLOW_TRACKING_USERNAME\"] = dagshub_token\n",
    "os.environ[\"MLFLOW_TRACKING_PASSWORD\"] = dagshub_token\n",
    "\n",
    "dagshub_url = \"https://dagshub.com\"\n",
    "repo_owner = \"pxxthik\"\n",
    "repo_name = \"Titanic-Survival-Prediction\"\n",
    "\n",
    "# Set up MLflow tracking URI\n",
    "mlflow.set_tracking_uri(f'{dagshub_url}/{repo_owner}/{repo_name}.mlflow')"
   ]
  },
  {
   "cell_type": "code",
   "execution_count": 6,
   "id": "f0a1a30f",
   "metadata": {
    "execution": {
     "iopub.execute_input": "2025-06-18T18:16:40.390095Z",
     "iopub.status.busy": "2025-06-18T18:16:40.389515Z",
     "iopub.status.idle": "2025-06-18T18:16:40.638225Z",
     "shell.execute_reply": "2025-06-18T18:16:40.637286Z"
    },
    "papermill": {
     "duration": 0.259708,
     "end_time": "2025-06-18T18:16:40.639851",
     "exception": false,
     "start_time": "2025-06-18T18:16:40.380143",
     "status": "completed"
    },
    "tags": []
   },
   "outputs": [
    {
     "data": {
      "text/plain": [
       "<Experiment: artifact_location='mlflow-artifacts:/c0edbb3929e2404686ce6d5bd63f4b8a', creation_time=1750269215534, experiment_id='3', last_update_time=1750269215534, lifecycle_stage='active', name='Hyperparameter tuning', tags={}>"
      ]
     },
     "execution_count": 6,
     "metadata": {},
     "output_type": "execute_result"
    }
   ],
   "source": [
    "mlflow.set_experiment(\"Hyperparameter tuning\")"
   ]
  },
  {
   "cell_type": "code",
   "execution_count": 7,
   "id": "f4339de7",
   "metadata": {
    "execution": {
     "iopub.execute_input": "2025-06-18T18:16:40.658988Z",
     "iopub.status.busy": "2025-06-18T18:16:40.658647Z",
     "iopub.status.idle": "2025-06-18T18:16:40.664059Z",
     "shell.execute_reply": "2025-06-18T18:16:40.663047Z"
    },
    "papermill": {
     "duration": 0.016609,
     "end_time": "2025-06-18T18:16:40.665646",
     "exception": false,
     "start_time": "2025-06-18T18:16:40.649037",
     "status": "completed"
    },
    "tags": []
   },
   "outputs": [],
   "source": [
    "# Hyperparameter grids\n",
    "et_params = {\n",
    "    'n_estimators': [100, 200],\n",
    "    'max_depth': [5, 10, None],\n",
    "    'min_samples_split': [2, 5]\n",
    "}\n",
    "\n",
    "rf_params = {\n",
    "    'n_estimators': [100, 200],\n",
    "    'max_depth': [5, 10, None],\n",
    "    'min_samples_split': [2, 5]\n",
    "}\n",
    "\n",
    "tune_models = {\n",
    "    \"Random Forest\": (RandomForestClassifier, rf_params),\n",
    "    \"Extra Trees\": (ExtraTreesClassifier, et_params)\n",
    "}"
   ]
  },
  {
   "cell_type": "code",
   "execution_count": 8,
   "id": "82b464bb",
   "metadata": {
    "execution": {
     "iopub.execute_input": "2025-06-18T18:16:40.684539Z",
     "iopub.status.busy": "2025-06-18T18:16:40.684219Z",
     "iopub.status.idle": "2025-06-18T18:21:02.470539Z",
     "shell.execute_reply": "2025-06-18T18:21:02.469331Z"
    },
    "papermill": {
     "duration": 261.797986,
     "end_time": "2025-06-18T18:21:02.472602",
     "exception": false,
     "start_time": "2025-06-18T18:16:40.674616",
     "status": "completed"
    },
    "tags": []
   },
   "outputs": [
    {
     "name": "stderr",
     "output_type": "stream",
     "text": [
      "2025/06/18 18:16:52 INFO mlflow.tracking._tracking_service.client: 🏃 View run Random Forest with params: {'max_depth': 5, 'min_samples_split': 2, 'n_estimators': 100} at: https://dagshub.com/pxxthik/Titanic-Survival-Prediction.mlflow/#/experiments/3/runs/97e801a99cd545f296380da19a6a6b8e.\n",
      "2025/06/18 18:16:52 INFO mlflow.tracking._tracking_service.client: 🧪 View experiment at: https://dagshub.com/pxxthik/Titanic-Survival-Prediction.mlflow/#/experiments/3.\n"
     ]
    },
    {
     "name": "stdout",
     "output_type": "stream",
     "text": [
      "Mean CV Score: 0.8342361863488623, Std CV Score: 0.012670242613515672\n",
      "Accuracy: 0.8044692737430168\n",
      "Precision: 0.8\n",
      "Recall: 0.7027027027027027\n",
      "roc_auc Score: 0.7894465894465894\n",
      "Mean CV Score: 0.8300009849305624, Std CV Score: 0.017923381988721558\n",
      "Accuracy: 0.8156424581005587\n",
      "Precision: 0.8153846153846154\n",
      "Recall: 0.7162162162162162\n",
      "roc_auc Score: 0.800965250965251\n"
     ]
    },
    {
     "name": "stderr",
     "output_type": "stream",
     "text": [
      "2025/06/18 18:16:58 INFO mlflow.tracking._tracking_service.client: 🏃 View run Random Forest with params: {'max_depth': 5, 'min_samples_split': 2, 'n_estimators': 200} at: https://dagshub.com/pxxthik/Titanic-Survival-Prediction.mlflow/#/experiments/3/runs/53b708e1efbf4aa68e986bac2fc1e0c2.\n",
      "2025/06/18 18:16:58 INFO mlflow.tracking._tracking_service.client: 🧪 View experiment at: https://dagshub.com/pxxthik/Titanic-Survival-Prediction.mlflow/#/experiments/3.\n"
     ]
    },
    {
     "name": "stdout",
     "output_type": "stream",
     "text": [
      "Mean CV Score: 0.8314291342460358, Std CV Score: 0.012184032953798225\n",
      "Accuracy: 0.8044692737430168\n",
      "Precision: 0.8\n",
      "Recall: 0.7027027027027027\n",
      "roc_auc Score: 0.7894465894465894\n"
     ]
    },
    {
     "name": "stderr",
     "output_type": "stream",
     "text": [
      "2025/06/18 18:17:08 INFO mlflow.tracking._tracking_service.client: 🏃 View run Random Forest with params: {'max_depth': 5, 'min_samples_split': 5, 'n_estimators': 100} at: https://dagshub.com/pxxthik/Titanic-Survival-Prediction.mlflow/#/experiments/3/runs/49861cb0bdd9412095fc4998a8f7b3b9.\n",
      "2025/06/18 18:17:08 INFO mlflow.tracking._tracking_service.client: 🧪 View experiment at: https://dagshub.com/pxxthik/Titanic-Survival-Prediction.mlflow/#/experiments/3.\n"
     ]
    },
    {
     "name": "stdout",
     "output_type": "stream",
     "text": [
      "Mean CV Score: 0.8314291342460356, Std CV Score: 0.015093044572535937\n",
      "Accuracy: 0.8100558659217877\n",
      "Precision: 0.803030303030303\n",
      "Recall: 0.7162162162162162\n",
      "roc_auc Score: 0.7962033462033462\n"
     ]
    },
    {
     "name": "stderr",
     "output_type": "stream",
     "text": [
      "2025/06/18 18:17:18 INFO mlflow.tracking._tracking_service.client: 🏃 View run Random Forest with params: {'max_depth': 5, 'min_samples_split': 5, 'n_estimators': 200} at: https://dagshub.com/pxxthik/Titanic-Survival-Prediction.mlflow/#/experiments/3/runs/05cdd7869cef4089a6780884622df28c.\n",
      "2025/06/18 18:17:18 INFO mlflow.tracking._tracking_service.client: 🧪 View experiment at: https://dagshub.com/pxxthik/Titanic-Survival-Prediction.mlflow/#/experiments/3.\n"
     ]
    },
    {
     "name": "stdout",
     "output_type": "stream",
     "text": [
      "Mean CV Score: 0.817393873731902, Std CV Score: 0.011239391308022198\n",
      "Accuracy: 0.8324022346368715\n",
      "Precision: 0.8235294117647058\n",
      "Recall: 0.7567567567567568\n",
      "roc_auc Score: 0.8212355212355212\n"
     ]
    },
    {
     "name": "stderr",
     "output_type": "stream",
     "text": [
      "2025/06/18 18:17:28 INFO mlflow.tracking._tracking_service.client: 🏃 View run Random Forest with params: {'max_depth': 10, 'min_samples_split': 2, 'n_estimators': 100} at: https://dagshub.com/pxxthik/Titanic-Survival-Prediction.mlflow/#/experiments/3/runs/bc6c8e2309b7481b8c357d25f4b1e65b.\n",
      "2025/06/18 18:17:28 INFO mlflow.tracking._tracking_service.client: 🧪 View experiment at: https://dagshub.com/pxxthik/Titanic-Survival-Prediction.mlflow/#/experiments/3.\n"
     ]
    },
    {
     "name": "stdout",
     "output_type": "stream",
     "text": [
      "Mean CV Score: 0.814606520240323, Std CV Score: 0.007154122312967511\n",
      "Accuracy: 0.8324022346368715\n",
      "Precision: 0.8235294117647058\n",
      "Recall: 0.7567567567567568\n",
      "roc_auc Score: 0.8212355212355212\n"
     ]
    },
    {
     "name": "stderr",
     "output_type": "stream",
     "text": [
      "2025/06/18 18:17:38 INFO mlflow.tracking._tracking_service.client: 🏃 View run Random Forest with params: {'max_depth': 10, 'min_samples_split': 2, 'n_estimators': 200} at: https://dagshub.com/pxxthik/Titanic-Survival-Prediction.mlflow/#/experiments/3/runs/98614a13705e4f848fe41390a85fa289.\n",
      "2025/06/18 18:17:38 INFO mlflow.tracking._tracking_service.client: 🧪 View experiment at: https://dagshub.com/pxxthik/Titanic-Survival-Prediction.mlflow/#/experiments/3.\n"
     ]
    },
    {
     "name": "stdout",
     "output_type": "stream",
     "text": [
      "Mean CV Score: 0.8174037230375258, Std CV Score: 0.009090829058279256\n",
      "Accuracy: 0.8435754189944135\n",
      "Precision: 0.8285714285714286\n",
      "Recall: 0.7837837837837838\n",
      "roc_auc Score: 0.8347490347490346\n"
     ]
    },
    {
     "name": "stderr",
     "output_type": "stream",
     "text": [
      "2025/06/18 18:17:48 INFO mlflow.tracking._tracking_service.client: 🏃 View run Random Forest with params: {'max_depth': 10, 'min_samples_split': 5, 'n_estimators': 100} at: https://dagshub.com/pxxthik/Titanic-Survival-Prediction.mlflow/#/experiments/3/runs/e56a64417d2543aba6c47c575c86103a.\n",
      "2025/06/18 18:17:48 INFO mlflow.tracking._tracking_service.client: 🧪 View experiment at: https://dagshub.com/pxxthik/Titanic-Survival-Prediction.mlflow/#/experiments/3.\n"
     ]
    },
    {
     "name": "stdout",
     "output_type": "stream",
     "text": [
      "Mean CV Score: 0.8188220230473752, Std CV Score: 0.00922654437050098\n",
      "Accuracy: 0.8547486033519553\n",
      "Precision: 0.8428571428571429\n",
      "Recall: 0.7972972972972973\n",
      "roc_auc Score: 0.8462676962676964\n"
     ]
    },
    {
     "name": "stderr",
     "output_type": "stream",
     "text": [
      "2025/06/18 18:17:58 INFO mlflow.tracking._tracking_service.client: 🏃 View run Random Forest with params: {'max_depth': 10, 'min_samples_split': 5, 'n_estimators': 200} at: https://dagshub.com/pxxthik/Titanic-Survival-Prediction.mlflow/#/experiments/3/runs/ff2534d9c65b4c96a83c31ccc4b26c1a.\n",
      "2025/06/18 18:17:58 INFO mlflow.tracking._tracking_service.client: 🧪 View experiment at: https://dagshub.com/pxxthik/Titanic-Survival-Prediction.mlflow/#/experiments/3.\n"
     ]
    },
    {
     "name": "stdout",
     "output_type": "stream",
     "text": [
      "Mean CV Score: 0.7935684034275583, Std CV Score: 0.010850090921470967\n",
      "Accuracy: 0.8324022346368715\n",
      "Precision: 0.7894736842105263\n",
      "Recall: 0.8108108108108109\n",
      "roc_auc Score: 0.8292149292149292\n"
     ]
    },
    {
     "name": "stderr",
     "output_type": "stream",
     "text": [
      "2025/06/18 18:18:08 INFO mlflow.tracking._tracking_service.client: 🏃 View run Random Forest with params: {'max_depth': None, 'min_samples_split': 2, 'n_estimators': 100} at: https://dagshub.com/pxxthik/Titanic-Survival-Prediction.mlflow/#/experiments/3/runs/172b355176aa476d8d7765e61ae0fed3.\n",
      "2025/06/18 18:18:08 INFO mlflow.tracking._tracking_service.client: 🧪 View experiment at: https://dagshub.com/pxxthik/Titanic-Survival-Prediction.mlflow/#/experiments/3.\n"
     ]
    },
    {
     "name": "stdout",
     "output_type": "stream",
     "text": [
      "Mean CV Score: 0.7907515020191077, Std CV Score: 0.008788980839898023\n",
      "Accuracy: 0.8435754189944135\n",
      "Precision: 0.8108108108108109\n",
      "Recall: 0.8108108108108109\n",
      "roc_auc Score: 0.8387387387387388\n"
     ]
    },
    {
     "name": "stderr",
     "output_type": "stream",
     "text": [
      "2025/06/18 18:18:18 INFO mlflow.tracking._tracking_service.client: 🏃 View run Random Forest with params: {'max_depth': None, 'min_samples_split': 2, 'n_estimators': 200} at: https://dagshub.com/pxxthik/Titanic-Survival-Prediction.mlflow/#/experiments/3/runs/10fd4d99722f44f485723a0e84f8599d.\n",
      "2025/06/18 18:18:18 INFO mlflow.tracking._tracking_service.client: 🧪 View experiment at: https://dagshub.com/pxxthik/Titanic-Survival-Prediction.mlflow/#/experiments/3.\n"
     ]
    },
    {
     "name": "stdout",
     "output_type": "stream",
     "text": [
      "Mean CV Score: 0.8061952132374668, Std CV Score: 0.0050026910523442575\n",
      "Accuracy: 0.8547486033519553\n",
      "Precision: 0.8333333333333334\n",
      "Recall: 0.8108108108108109\n",
      "roc_auc Score: 0.8482625482625483\n"
     ]
    },
    {
     "name": "stderr",
     "output_type": "stream",
     "text": [
      "2025/06/18 18:18:28 INFO mlflow.tracking._tracking_service.client: 🏃 View run Random Forest with params: {'max_depth': None, 'min_samples_split': 5, 'n_estimators': 100} at: https://dagshub.com/pxxthik/Titanic-Survival-Prediction.mlflow/#/experiments/3/runs/d6d1cc995a6b4bd2a0599c3211b00e7c.\n",
      "2025/06/18 18:18:28 INFO mlflow.tracking._tracking_service.client: 🧪 View experiment at: https://dagshub.com/pxxthik/Titanic-Survival-Prediction.mlflow/#/experiments/3.\n"
     ]
    },
    {
     "name": "stdout",
     "output_type": "stream",
     "text": [
      "Mean CV Score: 0.810400866738895, Std CV Score: 0.0040488912935642656\n",
      "Accuracy: 0.8547486033519553\n",
      "Precision: 0.8333333333333334\n",
      "Recall: 0.8108108108108109\n",
      "roc_auc Score: 0.8482625482625483\n"
     ]
    },
    {
     "name": "stderr",
     "output_type": "stream",
     "text": [
      "2025/06/18 18:18:38 INFO mlflow.tracking._tracking_service.client: 🏃 View run Random Forest with params: {'max_depth': None, 'min_samples_split': 5, 'n_estimators': 200} at: https://dagshub.com/pxxthik/Titanic-Survival-Prediction.mlflow/#/experiments/3/runs/b655041e865c4332979a4e22f4820dad.\n",
      "2025/06/18 18:18:38 INFO mlflow.tracking._tracking_service.client: 🧪 View experiment at: https://dagshub.com/pxxthik/Titanic-Survival-Prediction.mlflow/#/experiments/3.\n"
     ]
    },
    {
     "name": "stdout",
     "output_type": "stream",
     "text": [
      "Best Params: {'max_depth': 5, 'min_samples_split': 2, 'n_estimators': 100}\n",
      "Best Score: 0.8342361863488623\n"
     ]
    },
    {
     "name": "stderr",
     "output_type": "stream",
     "text": [
      "2025/06/18 18:18:51 WARNING mlflow.utils.environment: Encountered an unexpected error while inferring pip requirements (model URI: /tmp/tmpbt3iyi2f/model/model.pkl, flavor: sklearn). Fall back to return ['scikit-learn==1.2.2', 'cloudpickle==3.1.1']. Set logging level to DEBUG to see the full traceback. \n",
      "2025/06/18 18:18:54 WARNING mlflow.models.model: Input example should be provided to infer model signature if the model signature is not provided when logging the model.\n",
      "2025/06/18 18:18:54 INFO mlflow.tracking._tracking_service.client: 🏃 View run Random Forest_HP_2f30 at: https://dagshub.com/pxxthik/Titanic-Survival-Prediction.mlflow/#/experiments/3/runs/cf7e5a1609074374b821f7604ccd7af2.\n",
      "2025/06/18 18:18:54 INFO mlflow.tracking._tracking_service.client: 🧪 View experiment at: https://dagshub.com/pxxthik/Titanic-Survival-Prediction.mlflow/#/experiments/3.\n",
      "2025/06/18 18:19:01 INFO mlflow.tracking._tracking_service.client: 🏃 View run Extra Trees with params: {'max_depth': 5, 'min_samples_split': 2, 'n_estimators': 100} at: https://dagshub.com/pxxthik/Titanic-Survival-Prediction.mlflow/#/experiments/3/runs/e5adb8799b7a47c2bf11f7c4d51caae9.\n",
      "2025/06/18 18:19:01 INFO mlflow.tracking._tracking_service.client: 🧪 View experiment at: https://dagshub.com/pxxthik/Titanic-Survival-Prediction.mlflow/#/experiments/3.\n"
     ]
    },
    {
     "name": "stdout",
     "output_type": "stream",
     "text": [
      "Mean CV Score: 0.8215601300108343, Std CV Score: 0.022561760342397555\n",
      "Accuracy: 0.7988826815642458\n",
      "Precision: 0.7878787878787878\n",
      "Recall: 0.7027027027027027\n",
      "roc_auc Score: 0.7846846846846847\n",
      "Mean CV Score: 0.8215699793164581, Std CV Score: 0.023366684134242643\n",
      "Accuracy: 0.8044692737430168\n",
      "Precision: 0.8\n",
      "Recall: 0.7027027027027027\n",
      "roc_auc Score: 0.7894465894465894\n"
     ]
    },
    {
     "name": "stderr",
     "output_type": "stream",
     "text": [
      "2025/06/18 18:19:10 INFO mlflow.tracking._tracking_service.client: 🏃 View run Extra Trees with params: {'max_depth': 5, 'min_samples_split': 2, 'n_estimators': 200} at: https://dagshub.com/pxxthik/Titanic-Survival-Prediction.mlflow/#/experiments/3/runs/922ea57130984928be1aebaa11586108.\n",
      "2025/06/18 18:19:10 INFO mlflow.tracking._tracking_service.client: 🧪 View experiment at: https://dagshub.com/pxxthik/Titanic-Survival-Prediction.mlflow/#/experiments/3.\n"
     ]
    },
    {
     "name": "stdout",
     "output_type": "stream",
     "text": [
      "Mean CV Score: 0.8187826258248794, Std CV Score: 0.01992206560979367\n",
      "Accuracy: 0.7988826815642458\n",
      "Precision: 0.796875\n",
      "Recall: 0.6891891891891891\n",
      "roc_auc Score: 0.7826898326898326\n"
     ]
    },
    {
     "name": "stderr",
     "output_type": "stream",
     "text": [
      "2025/06/18 18:19:20 INFO mlflow.tracking._tracking_service.client: 🏃 View run Extra Trees with params: {'max_depth': 5, 'min_samples_split': 5, 'n_estimators': 100} at: https://dagshub.com/pxxthik/Titanic-Survival-Prediction.mlflow/#/experiments/3/runs/d975632c064344799cc7ba1022e65cd2.\n",
      "2025/06/18 18:19:20 INFO mlflow.tracking._tracking_service.client: 🧪 View experiment at: https://dagshub.com/pxxthik/Titanic-Survival-Prediction.mlflow/#/experiments/3.\n"
     ]
    },
    {
     "name": "stdout",
     "output_type": "stream",
     "text": [
      "Mean CV Score: 0.8229685807150595, Std CV Score: 0.026122419656864983\n",
      "Accuracy: 0.8044692737430168\n",
      "Precision: 0.8\n",
      "Recall: 0.7027027027027027\n",
      "roc_auc Score: 0.7894465894465894\n"
     ]
    },
    {
     "name": "stderr",
     "output_type": "stream",
     "text": [
      "2025/06/18 18:19:30 INFO mlflow.tracking._tracking_service.client: 🏃 View run Extra Trees with params: {'max_depth': 5, 'min_samples_split': 5, 'n_estimators': 200} at: https://dagshub.com/pxxthik/Titanic-Survival-Prediction.mlflow/#/experiments/3/runs/39ccd883d5874481bf4db92966666a56.\n",
      "2025/06/18 18:19:30 INFO mlflow.tracking._tracking_service.client: 🧪 View experiment at: https://dagshub.com/pxxthik/Titanic-Survival-Prediction.mlflow/#/experiments/3.\n"
     ]
    },
    {
     "name": "stdout",
     "output_type": "stream",
     "text": [
      "Mean CV Score: 0.8033684625233921, Std CV Score: 0.0063130438046397\n",
      "Accuracy: 0.8044692737430168\n",
      "Precision: 0.782608695652174\n",
      "Recall: 0.7297297297297297\n",
      "roc_auc Score: 0.7934362934362935\n"
     ]
    },
    {
     "name": "stderr",
     "output_type": "stream",
     "text": [
      "2025/06/18 18:19:41 INFO mlflow.tracking._tracking_service.client: 🏃 View run Extra Trees with params: {'max_depth': 10, 'min_samples_split': 2, 'n_estimators': 100} at: https://dagshub.com/pxxthik/Titanic-Survival-Prediction.mlflow/#/experiments/3/runs/a063f3d7130244c498e588dbc1a2fcad.\n",
      "2025/06/18 18:19:41 INFO mlflow.tracking._tracking_service.client: 🧪 View experiment at: https://dagshub.com/pxxthik/Titanic-Survival-Prediction.mlflow/#/experiments/3.\n"
     ]
    },
    {
     "name": "stdout",
     "output_type": "stream",
     "text": [
      "Mean CV Score: 0.8033684625233921, Std CV Score: 0.009968275862268604\n",
      "Accuracy: 0.8324022346368715\n",
      "Precision: 0.8055555555555556\n",
      "Recall: 0.7837837837837838\n",
      "roc_auc Score: 0.8252252252252252\n"
     ]
    },
    {
     "name": "stderr",
     "output_type": "stream",
     "text": [
      "2025/06/18 18:19:50 INFO mlflow.tracking._tracking_service.client: 🏃 View run Extra Trees with params: {'max_depth': 10, 'min_samples_split': 2, 'n_estimators': 200} at: https://dagshub.com/pxxthik/Titanic-Survival-Prediction.mlflow/#/experiments/3/runs/65359fd37e9e4f30846657853c90de58.\n",
      "2025/06/18 18:19:50 INFO mlflow.tracking._tracking_service.client: 🧪 View experiment at: https://dagshub.com/pxxthik/Titanic-Survival-Prediction.mlflow/#/experiments/3.\n"
     ]
    },
    {
     "name": "stdout",
     "output_type": "stream",
     "text": [
      "Mean CV Score: 0.8103811681276472, Std CV Score: 0.0048839646833069095\n",
      "Accuracy: 0.8268156424581006\n",
      "Precision: 0.8208955223880597\n",
      "Recall: 0.7432432432432432\n",
      "roc_auc Score: 0.8144787644787644\n"
     ]
    },
    {
     "name": "stderr",
     "output_type": "stream",
     "text": [
      "2025/06/18 18:20:00 INFO mlflow.tracking._tracking_service.client: 🏃 View run Extra Trees with params: {'max_depth': 10, 'min_samples_split': 5, 'n_estimators': 100} at: https://dagshub.com/pxxthik/Titanic-Survival-Prediction.mlflow/#/experiments/3/runs/526f1fdb894d49b2be006e36c29f07b6.\n",
      "2025/06/18 18:20:00 INFO mlflow.tracking._tracking_service.client: 🧪 View experiment at: https://dagshub.com/pxxthik/Titanic-Survival-Prediction.mlflow/#/experiments/3.\n"
     ]
    },
    {
     "name": "stdout",
     "output_type": "stream",
     "text": [
      "Mean CV Score: 0.8117896188318724, Std CV Score: 0.005506140650205805\n",
      "Accuracy: 0.8100558659217877\n",
      "Precision: 0.8125\n",
      "Recall: 0.7027027027027027\n",
      "roc_auc Score: 0.7942084942084942\n"
     ]
    },
    {
     "name": "stderr",
     "output_type": "stream",
     "text": [
      "2025/06/18 18:20:10 INFO mlflow.tracking._tracking_service.client: 🏃 View run Extra Trees with params: {'max_depth': 10, 'min_samples_split': 5, 'n_estimators': 200} at: https://dagshub.com/pxxthik/Titanic-Survival-Prediction.mlflow/#/experiments/3/runs/0ec68480f5244914b1023322a5f8ec5f.\n",
      "2025/06/18 18:20:10 INFO mlflow.tracking._tracking_service.client: 🧪 View experiment at: https://dagshub.com/pxxthik/Titanic-Survival-Prediction.mlflow/#/experiments/3.\n"
     ]
    },
    {
     "name": "stdout",
     "output_type": "stream",
     "text": [
      "Mean CV Score: 0.7823697429331232, Std CV Score: 0.025653676964969886\n",
      "Accuracy: 0.8268156424581006\n",
      "Precision: 0.7945205479452054\n",
      "Recall: 0.7837837837837838\n",
      "roc_auc Score: 0.8204633204633205\n"
     ]
    },
    {
     "name": "stderr",
     "output_type": "stream",
     "text": [
      "2025/06/18 18:20:20 INFO mlflow.tracking._tracking_service.client: 🏃 View run Extra Trees with params: {'max_depth': None, 'min_samples_split': 2, 'n_estimators': 100} at: https://dagshub.com/pxxthik/Titanic-Survival-Prediction.mlflow/#/experiments/3/runs/8417098e5ed544efb9a6a56ef73d2fc6.\n",
      "2025/06/18 18:20:20 INFO mlflow.tracking._tracking_service.client: 🧪 View experiment at: https://dagshub.com/pxxthik/Titanic-Survival-Prediction.mlflow/#/experiments/3.\n"
     ]
    },
    {
     "name": "stdout",
     "output_type": "stream",
     "text": [
      "Mean CV Score: 0.7739288880133951, Std CV Score: 0.016695563744567307\n",
      "Accuracy: 0.8324022346368715\n",
      "Precision: 0.7894736842105263\n",
      "Recall: 0.8108108108108109\n",
      "roc_auc Score: 0.8292149292149292\n"
     ]
    },
    {
     "name": "stderr",
     "output_type": "stream",
     "text": [
      "2025/06/18 18:20:30 INFO mlflow.tracking._tracking_service.client: 🏃 View run Extra Trees with params: {'max_depth': None, 'min_samples_split': 2, 'n_estimators': 200} at: https://dagshub.com/pxxthik/Titanic-Survival-Prediction.mlflow/#/experiments/3/runs/f74faeb01bdb4b0d8af63711b4c61cc4.\n",
      "2025/06/18 18:20:30 INFO mlflow.tracking._tracking_service.client: 🧪 View experiment at: https://dagshub.com/pxxthik/Titanic-Survival-Prediction.mlflow/#/experiments/3.\n"
     ]
    },
    {
     "name": "stdout",
     "output_type": "stream",
     "text": [
      "Mean CV Score: 0.7977642076233626, Std CV Score: 0.014178026695126581\n",
      "Accuracy: 0.8324022346368715\n",
      "Precision: 0.8235294117647058\n",
      "Recall: 0.7567567567567568\n",
      "roc_auc Score: 0.8212355212355212\n"
     ]
    },
    {
     "name": "stderr",
     "output_type": "stream",
     "text": [
      "2025/06/18 18:20:40 INFO mlflow.tracking._tracking_service.client: 🏃 View run Extra Trees with params: {'max_depth': None, 'min_samples_split': 5, 'n_estimators': 100} at: https://dagshub.com/pxxthik/Titanic-Survival-Prediction.mlflow/#/experiments/3/runs/a0fbb29b34d145669627008e73d3223e.\n",
      "2025/06/18 18:20:40 INFO mlflow.tracking._tracking_service.client: 🧪 View experiment at: https://dagshub.com/pxxthik/Titanic-Survival-Prediction.mlflow/#/experiments/3.\n"
     ]
    },
    {
     "name": "stdout",
     "output_type": "stream",
     "text": [
      "Mean CV Score: 0.8019698611247907, Std CV Score: 0.005079740584514882\n",
      "Accuracy: 0.8435754189944135\n",
      "Precision: 0.8382352941176471\n",
      "Recall: 0.7702702702702703\n",
      "roc_auc Score: 0.8327541827541827\n"
     ]
    },
    {
     "name": "stderr",
     "output_type": "stream",
     "text": [
      "2025/06/18 18:20:50 INFO mlflow.tracking._tracking_service.client: 🏃 View run Extra Trees with params: {'max_depth': None, 'min_samples_split': 5, 'n_estimators': 200} at: https://dagshub.com/pxxthik/Titanic-Survival-Prediction.mlflow/#/experiments/3/runs/e499b101730c48048cf174ab7f84e5dc.\n",
      "2025/06/18 18:20:50 INFO mlflow.tracking._tracking_service.client: 🧪 View experiment at: https://dagshub.com/pxxthik/Titanic-Survival-Prediction.mlflow/#/experiments/3.\n"
     ]
    },
    {
     "name": "stdout",
     "output_type": "stream",
     "text": [
      "Best Params: {'max_depth': 5, 'min_samples_split': 5, 'n_estimators': 200}\n",
      "Best Score: 0.8229685807150595\n"
     ]
    },
    {
     "name": "stderr",
     "output_type": "stream",
     "text": [
      "/usr/local/lib/python3.11/dist-packages/_distutils_hack/__init__.py:16: UserWarning: Distutils was imported before Setuptools, but importing Setuptools also replaces the `distutils` module in `sys.modules`. This may lead to undesirable behaviors or errors. To avoid these issues, avoid using distutils directly, ensure that setuptools is installed in the traditional way (e.g. not an editable install), and/or make sure that setuptools is always imported before distutils.\n",
      "  warnings.warn(\n",
      "/usr/local/lib/python3.11/dist-packages/_distutils_hack/__init__.py:31: UserWarning: Setuptools is replacing distutils. Support for replacing an already imported distutils is deprecated. In the future, this condition will fail. Register concerns at https://github.com/pypa/setuptools/issues/new?template=distutils-deprecation.yml\n",
      "  warnings.warn(\n",
      "2025/06/18 18:21:00 WARNING mlflow.models.model: Input example should be provided to infer model signature if the model signature is not provided when logging the model.\n",
      "2025/06/18 18:21:01 INFO mlflow.tracking._tracking_service.client: 🏃 View run Extra Trees_HP_1834 at: https://dagshub.com/pxxthik/Titanic-Survival-Prediction.mlflow/#/experiments/3/runs/611824073df44cbf94395a90e403aa2d.\n",
      "2025/06/18 18:21:01 INFO mlflow.tracking._tracking_service.client: 🧪 View experiment at: https://dagshub.com/pxxthik/Titanic-Survival-Prediction.mlflow/#/experiments/3.\n"
     ]
    }
   ],
   "source": [
    "import uuid\n",
    "\n",
    "for algo_name, (algo, param_grid) in tune_models.items():\n",
    "    random_id = uuid.uuid4().hex[:4]\n",
    "    parent_run_name = f\"{algo_name}_HP_{random_id}\"\n",
    "    \n",
    "    with mlflow.start_run(run_name=parent_run_name):\n",
    "        # Perform grid search\n",
    "        grid_search = GridSearchCV(algo(), param_grid, cv=5, scoring='accuracy', n_jobs=-1)\n",
    "        grid_search.fit(X_train, y_train)\n",
    "\n",
    "        for params, mean_score, std_score in zip(grid_search.cv_results_['params'], grid_search.cv_results_['mean_test_score'], grid_search.cv_results_['std_test_score']):\n",
    "            with mlflow.start_run(run_name=f\"{algo_name} with params: {params}\", nested=True):\n",
    "                model = algo(**params)\n",
    "                model.fit(X_train, y_train)\n",
    "\n",
    "                # Model evaluation\n",
    "                y_pred = model.predict(X_test)\n",
    "                \n",
    "                accuracy = accuracy_score(y_test, y_pred)\n",
    "                precision = precision_score(y_test, y_pred)\n",
    "                recall = recall_score(y_test, y_pred)\n",
    "                roc_auc = roc_auc_score(y_test, y_pred)\n",
    "\n",
    "                # Log parameters and metrics\n",
    "                mlflow.log_params(params)\n",
    "                mlflow.log_metric(\"mean_cv_score\", mean_score)\n",
    "                mlflow.log_metric(\"std_cv_score\", std_score)\n",
    "                mlflow.log_metric(\"accuracy\", accuracy)\n",
    "                mlflow.log_metric(\"precision\", precision)\n",
    "                mlflow.log_metric(\"recall\", recall)\n",
    "                mlflow.log_metric(\"roc_auc\", roc_auc)\n",
    "\n",
    "                # Print the results for verification\n",
    "                print(f\"Mean CV Score: {mean_score}, Std CV Score: {std_score}\")\n",
    "                print(f\"Accuracy: {accuracy}\")\n",
    "                print(f\"Precision: {precision}\")\n",
    "                print(f\"Recall: {recall}\")\n",
    "                print(f\"roc_auc Score: {roc_auc}\")\n",
    "                \n",
    "\n",
    "        # Log the best run details in the parent run\n",
    "        best_params = grid_search.best_params_\n",
    "        best_score = grid_search.best_score_\n",
    "        mlflow.log_params(best_params)\n",
    "        mlflow.log_metric(\"best_score\", best_score)\n",
    "        \n",
    "        print(f\"Best Params: {best_params}\")\n",
    "        print(f\"Best Score: {best_score}\")\n",
    "    \n",
    "        # Log model\n",
    "        mlflow.sklearn.log_model(grid_search.best_estimator_, \"model\")"
   ]
  },
  {
   "cell_type": "code",
   "execution_count": null,
   "id": "dc9ccbe9",
   "metadata": {
    "papermill": {
     "duration": 0.01288,
     "end_time": "2025-06-18T18:21:02.498866",
     "exception": false,
     "start_time": "2025-06-18T18:21:02.485986",
     "status": "completed"
    },
    "tags": []
   },
   "outputs": [],
   "source": []
  }
 ],
 "metadata": {
  "kaggle": {
   "accelerator": "none",
   "dataSources": [
    {
     "datasetId": 7691047,
     "sourceId": 12208962,
     "sourceType": "datasetVersion"
    }
   ],
   "dockerImageVersionId": 31040,
   "isGpuEnabled": false,
   "isInternetEnabled": true,
   "language": "python",
   "sourceType": "notebook"
  },
  "kernelspec": {
   "display_name": "Python 3",
   "language": "python",
   "name": "python3"
  },
  "language_info": {
   "codemirror_mode": {
    "name": "ipython",
    "version": 3
   },
   "file_extension": ".py",
   "mimetype": "text/x-python",
   "name": "python",
   "nbconvert_exporter": "python",
   "pygments_lexer": "ipython3",
   "version": "3.11.11"
  },
  "papermill": {
   "default_parameters": {},
   "duration": 304.024628,
   "end_time": "2025-06-18T18:21:05.134317",
   "environment_variables": {},
   "exception": null,
   "input_path": "__notebook__.ipynb",
   "output_path": "__notebook__.ipynb",
   "parameters": {},
   "start_time": "2025-06-18T18:16:01.109689",
   "version": "2.6.0"
  }
 },
 "nbformat": 4,
 "nbformat_minor": 5
}
