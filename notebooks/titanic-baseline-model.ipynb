{
 "cells": [
  {
   "cell_type": "markdown",
   "id": "5e45b10f",
   "metadata": {
    "papermill": {
     "duration": 0.005666,
     "end_time": "2025-06-18T16:51:29.322195",
     "exception": false,
     "start_time": "2025-06-18T16:51:29.316529",
     "status": "completed"
    },
    "tags": []
   },
   "source": [
    "# 🛠️ Titanic Survival Prediction - Baseline Model\n",
    "\n",
    "This notebook is part of the Titanic Survival Prediction project. In this phase, we set up a mlflow server on dagshub and build a baseline model.\n",
    "\n",
    "[MLflow Server](https://dagshub.com/pxxthik/Titanic-Survival-Prediction.mlflow)"
   ]
  },
  {
   "cell_type": "code",
   "execution_count": 1,
   "id": "eeabed5b",
   "metadata": {
    "execution": {
     "iopub.execute_input": "2025-06-18T16:51:29.334992Z",
     "iopub.status.busy": "2025-06-18T16:51:29.334577Z",
     "iopub.status.idle": "2025-06-18T16:51:49.884455Z",
     "shell.execute_reply": "2025-06-18T16:51:49.882995Z"
    },
    "papermill": {
     "duration": 20.559603,
     "end_time": "2025-06-18T16:51:49.886971",
     "exception": false,
     "start_time": "2025-06-18T16:51:29.327368",
     "status": "completed"
    },
    "tags": []
   },
   "outputs": [
    {
     "name": "stdout",
     "output_type": "stream",
     "text": [
      "Collecting mlflow==2.15.0\r\n",
      "  Downloading mlflow-2.15.0-py3-none-any.whl.metadata (29 kB)\r\n",
      "Collecting mlflow-skinny==2.15.0 (from mlflow==2.15.0)\r\n",
      "  Downloading mlflow_skinny-2.15.0-py3-none-any.whl.metadata (30 kB)\r\n",
      "Requirement already satisfied: Flask<4 in /usr/local/lib/python3.11/dist-packages (from mlflow==2.15.0) (3.1.0)\r\n",
      "Requirement already satisfied: alembic!=1.10.0,<2 in /usr/local/lib/python3.11/dist-packages (from mlflow==2.15.0) (1.15.2)\r\n",
      "Requirement already satisfied: docker<8,>=4.0.0 in /usr/local/lib/python3.11/dist-packages (from mlflow==2.15.0) (7.1.0)\r\n",
      "Collecting graphene<4 (from mlflow==2.15.0)\r\n",
      "  Downloading graphene-3.4.3-py2.py3-none-any.whl.metadata (6.9 kB)\r\n",
      "Requirement already satisfied: markdown<4,>=3.3 in /usr/local/lib/python3.11/dist-packages (from mlflow==2.15.0) (3.7)\r\n",
      "Requirement already satisfied: matplotlib<4 in /usr/local/lib/python3.11/dist-packages (from mlflow==2.15.0) (3.7.2)\r\n",
      "Requirement already satisfied: numpy<2 in /usr/local/lib/python3.11/dist-packages (from mlflow==2.15.0) (1.26.4)\r\n",
      "Requirement already satisfied: pandas<3 in /usr/local/lib/python3.11/dist-packages (from mlflow==2.15.0) (2.2.3)\r\n",
      "Collecting pyarrow<16,>=4.0.0 (from mlflow==2.15.0)\r\n",
      "  Downloading pyarrow-15.0.2-cp311-cp311-manylinux_2_28_x86_64.whl.metadata (3.0 kB)\r\n",
      "Collecting querystring-parser<2 (from mlflow==2.15.0)\r\n",
      "  Downloading querystring_parser-1.2.4-py2.py3-none-any.whl.metadata (559 bytes)\r\n",
      "Requirement already satisfied: scikit-learn<2 in /usr/local/lib/python3.11/dist-packages (from mlflow==2.15.0) (1.2.2)\r\n",
      "Requirement already satisfied: scipy<2 in /usr/local/lib/python3.11/dist-packages (from mlflow==2.15.0) (1.15.2)\r\n",
      "Requirement already satisfied: sqlalchemy<3,>=1.4.0 in /usr/local/lib/python3.11/dist-packages (from mlflow==2.15.0) (2.0.40)\r\n",
      "Requirement already satisfied: Jinja2<4,>=2.11 in /usr/local/lib/python3.11/dist-packages (from mlflow==2.15.0) (3.1.6)\r\n",
      "Collecting gunicorn<23 (from mlflow==2.15.0)\r\n",
      "  Downloading gunicorn-22.0.0-py3-none-any.whl.metadata (4.4 kB)\r\n",
      "Requirement already satisfied: cachetools<6,>=5.0.0 in /usr/local/lib/python3.11/dist-packages (from mlflow-skinny==2.15.0->mlflow==2.15.0) (5.5.2)\r\n",
      "Requirement already satisfied: click<9,>=7.0 in /usr/local/lib/python3.11/dist-packages (from mlflow-skinny==2.15.0->mlflow==2.15.0) (8.1.8)\r\n",
      "Requirement already satisfied: cloudpickle<4 in /usr/local/lib/python3.11/dist-packages (from mlflow-skinny==2.15.0->mlflow==2.15.0) (3.1.1)\r\n",
      "Collecting databricks-sdk<1,>=0.20.0 (from mlflow-skinny==2.15.0->mlflow==2.15.0)\r\n",
      "  Downloading databricks_sdk-0.57.0-py3-none-any.whl.metadata (39 kB)\r\n",
      "Requirement already satisfied: entrypoints<1 in /usr/local/lib/python3.11/dist-packages (from mlflow-skinny==2.15.0->mlflow==2.15.0) (0.4)\r\n",
      "Requirement already satisfied: gitpython<4,>=3.1.9 in /usr/local/lib/python3.11/dist-packages (from mlflow-skinny==2.15.0->mlflow==2.15.0) (3.1.44)\r\n",
      "Collecting importlib-metadata!=4.7.0,<8,>=3.7.0 (from mlflow-skinny==2.15.0->mlflow==2.15.0)\r\n",
      "  Downloading importlib_metadata-7.2.1-py3-none-any.whl.metadata (4.6 kB)\r\n",
      "Requirement already satisfied: opentelemetry-api<3,>=1.9.0 in /usr/local/lib/python3.11/dist-packages (from mlflow-skinny==2.15.0->mlflow==2.15.0) (1.31.1)\r\n",
      "Requirement already satisfied: opentelemetry-sdk<3,>=1.9.0 in /usr/local/lib/python3.11/dist-packages (from mlflow-skinny==2.15.0->mlflow==2.15.0) (1.31.1)\r\n",
      "Collecting packaging<25 (from mlflow-skinny==2.15.0->mlflow==2.15.0)\r\n",
      "  Downloading packaging-24.2-py3-none-any.whl.metadata (3.2 kB)\r\n",
      "Requirement already satisfied: protobuf<6,>=3.12.0 in /usr/local/lib/python3.11/dist-packages (from mlflow-skinny==2.15.0->mlflow==2.15.0) (3.20.3)\r\n",
      "Collecting pytz<2025 (from mlflow-skinny==2.15.0->mlflow==2.15.0)\r\n",
      "  Downloading pytz-2024.2-py2.py3-none-any.whl.metadata (22 kB)\r\n",
      "Requirement already satisfied: pyyaml<7,>=5.1 in /usr/local/lib/python3.11/dist-packages (from mlflow-skinny==2.15.0->mlflow==2.15.0) (6.0.2)\r\n",
      "Requirement already satisfied: requests<3,>=2.17.3 in /usr/local/lib/python3.11/dist-packages (from mlflow-skinny==2.15.0->mlflow==2.15.0) (2.32.3)\r\n",
      "Requirement already satisfied: sqlparse<1,>=0.4.0 in /usr/local/lib/python3.11/dist-packages (from mlflow-skinny==2.15.0->mlflow==2.15.0) (0.5.3)\r\n",
      "Requirement already satisfied: Mako in /usr/local/lib/python3.11/dist-packages (from alembic!=1.10.0,<2->mlflow==2.15.0) (1.3.10)\r\n",
      "Requirement already satisfied: typing-extensions>=4.12 in /usr/local/lib/python3.11/dist-packages (from alembic!=1.10.0,<2->mlflow==2.15.0) (4.13.2)\r\n",
      "Requirement already satisfied: urllib3>=1.26.0 in /usr/local/lib/python3.11/dist-packages (from docker<8,>=4.0.0->mlflow==2.15.0) (2.4.0)\r\n",
      "Requirement already satisfied: Werkzeug>=3.1 in /usr/local/lib/python3.11/dist-packages (from Flask<4->mlflow==2.15.0) (3.1.3)\r\n",
      "Requirement already satisfied: itsdangerous>=2.2 in /usr/local/lib/python3.11/dist-packages (from Flask<4->mlflow==2.15.0) (2.2.0)\r\n",
      "Requirement already satisfied: blinker>=1.9 in /usr/local/lib/python3.11/dist-packages (from Flask<4->mlflow==2.15.0) (1.9.0)\r\n",
      "Collecting graphql-core<3.3,>=3.1 (from graphene<4->mlflow==2.15.0)\r\n",
      "  Downloading graphql_core-3.2.6-py3-none-any.whl.metadata (11 kB)\r\n",
      "Collecting graphql-relay<3.3,>=3.1 (from graphene<4->mlflow==2.15.0)\r\n",
      "  Downloading graphql_relay-3.2.0-py3-none-any.whl.metadata (12 kB)\r\n",
      "Requirement already satisfied: python-dateutil<3,>=2.7.0 in /usr/local/lib/python3.11/dist-packages (from graphene<4->mlflow==2.15.0) (2.9.0.post0)\r\n",
      "Requirement already satisfied: MarkupSafe>=2.0 in /usr/local/lib/python3.11/dist-packages (from Jinja2<4,>=2.11->mlflow==2.15.0) (3.0.2)\r\n",
      "Requirement already satisfied: contourpy>=1.0.1 in /usr/local/lib/python3.11/dist-packages (from matplotlib<4->mlflow==2.15.0) (1.3.1)\r\n",
      "Requirement already satisfied: cycler>=0.10 in /usr/local/lib/python3.11/dist-packages (from matplotlib<4->mlflow==2.15.0) (0.12.1)\r\n",
      "Requirement already satisfied: fonttools>=4.22.0 in /usr/local/lib/python3.11/dist-packages (from matplotlib<4->mlflow==2.15.0) (4.57.0)\r\n",
      "Requirement already satisfied: kiwisolver>=1.0.1 in /usr/local/lib/python3.11/dist-packages (from matplotlib<4->mlflow==2.15.0) (1.4.8)\r\n",
      "Requirement already satisfied: pillow>=6.2.0 in /usr/local/lib/python3.11/dist-packages (from matplotlib<4->mlflow==2.15.0) (11.1.0)\r\n",
      "Requirement already satisfied: pyparsing<3.1,>=2.3.1 in /usr/local/lib/python3.11/dist-packages (from matplotlib<4->mlflow==2.15.0) (3.0.9)\r\n",
      "Requirement already satisfied: mkl_fft in /usr/local/lib/python3.11/dist-packages (from numpy<2->mlflow==2.15.0) (1.3.8)\r\n",
      "Requirement already satisfied: mkl_random in /usr/local/lib/python3.11/dist-packages (from numpy<2->mlflow==2.15.0) (1.2.4)\r\n",
      "Requirement already satisfied: mkl_umath in /usr/local/lib/python3.11/dist-packages (from numpy<2->mlflow==2.15.0) (0.1.1)\r\n",
      "Requirement already satisfied: mkl in /usr/local/lib/python3.11/dist-packages (from numpy<2->mlflow==2.15.0) (2025.1.0)\r\n",
      "Requirement already satisfied: tbb4py in /usr/local/lib/python3.11/dist-packages (from numpy<2->mlflow==2.15.0) (2022.1.0)\r\n",
      "Requirement already satisfied: mkl-service in /usr/local/lib/python3.11/dist-packages (from numpy<2->mlflow==2.15.0) (2.4.1)\r\n",
      "Requirement already satisfied: tzdata>=2022.7 in /usr/local/lib/python3.11/dist-packages (from pandas<3->mlflow==2.15.0) (2025.2)\r\n",
      "Requirement already satisfied: six in /usr/local/lib/python3.11/dist-packages (from querystring-parser<2->mlflow==2.15.0) (1.17.0)\r\n",
      "Requirement already satisfied: joblib>=1.1.1 in /usr/local/lib/python3.11/dist-packages (from scikit-learn<2->mlflow==2.15.0) (1.5.0)\r\n",
      "Requirement already satisfied: threadpoolctl>=2.0.0 in /usr/local/lib/python3.11/dist-packages (from scikit-learn<2->mlflow==2.15.0) (3.6.0)\r\n",
      "Requirement already satisfied: greenlet>=1 in /usr/local/lib/python3.11/dist-packages (from sqlalchemy<3,>=1.4.0->mlflow==2.15.0) (3.1.1)\r\n",
      "Requirement already satisfied: google-auth~=2.0 in /usr/local/lib/python3.11/dist-packages (from databricks-sdk<1,>=0.20.0->mlflow-skinny==2.15.0->mlflow==2.15.0) (2.40.1)\r\n",
      "Requirement already satisfied: gitdb<5,>=4.0.1 in /usr/local/lib/python3.11/dist-packages (from gitpython<4,>=3.1.9->mlflow-skinny==2.15.0->mlflow==2.15.0) (4.0.12)\r\n",
      "Requirement already satisfied: zipp>=0.5 in /usr/local/lib/python3.11/dist-packages (from importlib-metadata!=4.7.0,<8,>=3.7.0->mlflow-skinny==2.15.0->mlflow==2.15.0) (3.21.0)\r\n",
      "Requirement already satisfied: deprecated>=1.2.6 in /usr/local/lib/python3.11/dist-packages (from opentelemetry-api<3,>=1.9.0->mlflow-skinny==2.15.0->mlflow==2.15.0) (1.2.18)\r\n",
      "Requirement already satisfied: opentelemetry-semantic-conventions==0.52b1 in /usr/local/lib/python3.11/dist-packages (from opentelemetry-sdk<3,>=1.9.0->mlflow-skinny==2.15.0->mlflow==2.15.0) (0.52b1)\r\n",
      "Requirement already satisfied: charset-normalizer<4,>=2 in /usr/local/lib/python3.11/dist-packages (from requests<3,>=2.17.3->mlflow-skinny==2.15.0->mlflow==2.15.0) (3.4.2)\r\n",
      "Requirement already satisfied: idna<4,>=2.5 in /usr/local/lib/python3.11/dist-packages (from requests<3,>=2.17.3->mlflow-skinny==2.15.0->mlflow==2.15.0) (3.10)\r\n",
      "Requirement already satisfied: certifi>=2017.4.17 in /usr/local/lib/python3.11/dist-packages (from requests<3,>=2.17.3->mlflow-skinny==2.15.0->mlflow==2.15.0) (2025.4.26)\r\n",
      "Requirement already satisfied: intel-openmp<2026,>=2024 in /usr/local/lib/python3.11/dist-packages (from mkl->numpy<2->mlflow==2.15.0) (2024.2.0)\r\n",
      "Requirement already satisfied: tbb==2022.* in /usr/local/lib/python3.11/dist-packages (from mkl->numpy<2->mlflow==2.15.0) (2022.1.0)\r\n",
      "Requirement already satisfied: tcmlib==1.* in /usr/local/lib/python3.11/dist-packages (from tbb==2022.*->mkl->numpy<2->mlflow==2.15.0) (1.3.0)\r\n",
      "Requirement already satisfied: intel-cmplr-lib-rt in /usr/local/lib/python3.11/dist-packages (from mkl_umath->numpy<2->mlflow==2.15.0) (2024.2.0)\r\n",
      "Requirement already satisfied: wrapt<2,>=1.10 in /usr/local/lib/python3.11/dist-packages (from deprecated>=1.2.6->opentelemetry-api<3,>=1.9.0->mlflow-skinny==2.15.0->mlflow==2.15.0) (1.17.2)\r\n",
      "Requirement already satisfied: smmap<6,>=3.0.1 in /usr/local/lib/python3.11/dist-packages (from gitdb<5,>=4.0.1->gitpython<4,>=3.1.9->mlflow-skinny==2.15.0->mlflow==2.15.0) (5.0.2)\r\n",
      "Requirement already satisfied: pyasn1-modules>=0.2.1 in /usr/local/lib/python3.11/dist-packages (from google-auth~=2.0->databricks-sdk<1,>=0.20.0->mlflow-skinny==2.15.0->mlflow==2.15.0) (0.4.2)\r\n",
      "Requirement already satisfied: rsa<5,>=3.1.4 in /usr/local/lib/python3.11/dist-packages (from google-auth~=2.0->databricks-sdk<1,>=0.20.0->mlflow-skinny==2.15.0->mlflow==2.15.0) (4.9.1)\r\n",
      "Requirement already satisfied: intel-cmplr-lib-ur==2024.2.0 in /usr/local/lib/python3.11/dist-packages (from intel-openmp<2026,>=2024->mkl->numpy<2->mlflow==2.15.0) (2024.2.0)\r\n",
      "Requirement already satisfied: pyasn1<0.7.0,>=0.6.1 in /usr/local/lib/python3.11/dist-packages (from pyasn1-modules>=0.2.1->google-auth~=2.0->databricks-sdk<1,>=0.20.0->mlflow-skinny==2.15.0->mlflow==2.15.0) (0.6.1)\r\n",
      "Downloading mlflow-2.15.0-py3-none-any.whl (26.3 MB)\r\n",
      "\u001b[2K   \u001b[90m━━━━━━━━━━━━━━━━━━━━━━━━━━━━━━━━━━━━━━━━\u001b[0m \u001b[32m26.3/26.3 MB\u001b[0m \u001b[31m50.7 MB/s\u001b[0m eta \u001b[36m0:00:00\u001b[0m\r\n",
      "\u001b[?25hDownloading mlflow_skinny-2.15.0-py3-none-any.whl (5.5 MB)\r\n",
      "\u001b[2K   \u001b[90m━━━━━━━━━━━━━━━━━━━━━━━━━━━━━━━━━━━━━━━━\u001b[0m \u001b[32m5.5/5.5 MB\u001b[0m \u001b[31m61.1 MB/s\u001b[0m eta \u001b[36m0:00:00\u001b[0m\r\n",
      "\u001b[?25hDownloading graphene-3.4.3-py2.py3-none-any.whl (114 kB)\r\n",
      "\u001b[2K   \u001b[90m━━━━━━━━━━━━━━━━━━━━━━━━━━━━━━━━━━━━━━━━\u001b[0m \u001b[32m114.9/114.9 kB\u001b[0m \u001b[31m4.3 MB/s\u001b[0m eta \u001b[36m0:00:00\u001b[0m\r\n",
      "\u001b[?25hDownloading gunicorn-22.0.0-py3-none-any.whl (84 kB)\r\n",
      "\u001b[2K   \u001b[90m━━━━━━━━━━━━━━━━━━━━━━━━━━━━━━━━━━━━━━━━\u001b[0m \u001b[32m84.4/84.4 kB\u001b[0m \u001b[31m4.1 MB/s\u001b[0m eta \u001b[36m0:00:00\u001b[0m\r\n",
      "\u001b[?25hDownloading pyarrow-15.0.2-cp311-cp311-manylinux_2_28_x86_64.whl (38.3 MB)\r\n",
      "\u001b[2K   \u001b[90m━━━━━━━━━━━━━━━━━━━━━━━━━━━━━━━━━━━━━━━━\u001b[0m \u001b[32m38.3/38.3 MB\u001b[0m \u001b[31m39.9 MB/s\u001b[0m eta \u001b[36m0:00:00\u001b[0m\r\n",
      "\u001b[?25hDownloading querystring_parser-1.2.4-py2.py3-none-any.whl (7.9 kB)\r\n",
      "Downloading databricks_sdk-0.57.0-py3-none-any.whl (733 kB)\r\n",
      "\u001b[2K   \u001b[90m━━━━━━━━━━━━━━━━━━━━━━━━━━━━━━━━━━━━━━━━\u001b[0m \u001b[32m733.8/733.8 kB\u001b[0m \u001b[31m23.2 MB/s\u001b[0m eta \u001b[36m0:00:00\u001b[0m\r\n",
      "\u001b[?25hDownloading graphql_core-3.2.6-py3-none-any.whl (203 kB)\r\n",
      "\u001b[2K   \u001b[90m━━━━━━━━━━━━━━━━━━━━━━━━━━━━━━━━━━━━━━━━\u001b[0m \u001b[32m203.4/203.4 kB\u001b[0m \u001b[31m7.7 MB/s\u001b[0m eta \u001b[36m0:00:00\u001b[0m\r\n",
      "\u001b[?25hDownloading graphql_relay-3.2.0-py3-none-any.whl (16 kB)\r\n",
      "Downloading importlib_metadata-7.2.1-py3-none-any.whl (25 kB)\r\n",
      "Downloading packaging-24.2-py3-none-any.whl (65 kB)\r\n",
      "\u001b[2K   \u001b[90m━━━━━━━━━━━━━━━━━━━━━━━━━━━━━━━━━━━━━━━━\u001b[0m \u001b[32m65.5/65.5 kB\u001b[0m \u001b[31m2.9 MB/s\u001b[0m eta \u001b[36m0:00:00\u001b[0m\r\n",
      "\u001b[?25hDownloading pytz-2024.2-py2.py3-none-any.whl (508 kB)\r\n",
      "\u001b[2K   \u001b[90m━━━━━━━━━━━━━━━━━━━━━━━━━━━━━━━━━━━━━━━━\u001b[0m \u001b[32m508.0/508.0 kB\u001b[0m \u001b[31m16.4 MB/s\u001b[0m eta \u001b[36m0:00:00\u001b[0m\r\n",
      "\u001b[?25hInstalling collected packages: pytz, querystring-parser, packaging, importlib-metadata, graphql-core, gunicorn, graphql-relay, graphene, databricks-sdk, mlflow-skinny, pyarrow, mlflow\r\n",
      "  Attempting uninstall: pytz\r\n",
      "    Found existing installation: pytz 2025.2\r\n",
      "    Uninstalling pytz-2025.2:\r\n",
      "      Successfully uninstalled pytz-2025.2\r\n",
      "  Attempting uninstall: packaging\r\n",
      "    Found existing installation: packaging 25.0\r\n",
      "    Uninstalling packaging-25.0:\r\n",
      "      Successfully uninstalled packaging-25.0\r\n",
      "  Attempting uninstall: importlib-metadata\r\n",
      "    Found existing installation: importlib_metadata 8.7.0\r\n",
      "    Uninstalling importlib_metadata-8.7.0:\r\n",
      "      Successfully uninstalled importlib_metadata-8.7.0\r\n",
      "  Attempting uninstall: pyarrow\r\n",
      "    Found existing installation: pyarrow 19.0.1\r\n",
      "    Uninstalling pyarrow-19.0.1:\r\n",
      "      Successfully uninstalled pyarrow-19.0.1\r\n",
      "\u001b[31mERROR: pip's dependency resolver does not currently take into account all the packages that are installed. This behaviour is the source of the following dependency conflicts.\r\n",
      "datasets 3.6.0 requires fsspec[http]<=2025.3.0,>=2023.1.0, but you have fsspec 2025.3.2 which is incompatible.\r\n",
      "cesium 0.12.4 requires numpy<3.0,>=2.0, but you have numpy 1.26.4 which is incompatible.\r\n",
      "google-colab 1.0.0 requires google-auth==2.38.0, but you have google-auth 2.40.1 which is incompatible.\r\n",
      "google-colab 1.0.0 requires notebook==6.5.7, but you have notebook 6.5.4 which is incompatible.\r\n",
      "google-colab 1.0.0 requires pandas==2.2.2, but you have pandas 2.2.3 which is incompatible.\r\n",
      "dopamine-rl 4.1.2 requires gymnasium>=1.0.0, but you have gymnasium 0.29.0 which is incompatible.\r\n",
      "ibis-framework 9.5.0 requires toolz<1,>=0.11, but you have toolz 1.0.0 which is incompatible.\r\n",
      "bigframes 1.42.0 requires rich<14,>=12.4.4, but you have rich 14.0.0 which is incompatible.\r\n",
      "plotnine 0.14.5 requires matplotlib>=3.8.0, but you have matplotlib 3.7.2 which is incompatible.\r\n",
      "pandas-gbq 0.28.0 requires google-api-core<3.0.0dev,>=2.10.2, but you have google-api-core 1.34.1 which is incompatible.\r\n",
      "mlxtend 0.23.4 requires scikit-learn>=1.3.1, but you have scikit-learn 1.2.2 which is incompatible.\u001b[0m\u001b[31m\r\n",
      "\u001b[0mSuccessfully installed databricks-sdk-0.57.0 graphene-3.4.3 graphql-core-3.2.6 graphql-relay-3.2.0 gunicorn-22.0.0 importlib-metadata-7.2.1 mlflow-2.15.0 mlflow-skinny-2.15.0 packaging-24.2 pyarrow-15.0.2 pytz-2024.2 querystring-parser-1.2.4\r\n"
     ]
    }
   ],
   "source": [
    "!pip install mlflow==2.15.0"
   ]
  },
  {
   "cell_type": "code",
   "execution_count": 2,
   "id": "9b9ce363",
   "metadata": {
    "execution": {
     "iopub.execute_input": "2025-06-18T16:51:49.907441Z",
     "iopub.status.busy": "2025-06-18T16:51:49.905905Z",
     "iopub.status.idle": "2025-06-18T16:52:02.705508Z",
     "shell.execute_reply": "2025-06-18T16:52:02.702464Z"
    },
    "papermill": {
     "duration": 12.812742,
     "end_time": "2025-06-18T16:52:02.708158",
     "exception": false,
     "start_time": "2025-06-18T16:51:49.895416",
     "status": "completed"
    },
    "tags": []
   },
   "outputs": [
    {
     "name": "stdout",
     "output_type": "stream",
     "text": [
      "Collecting dagshub==0.3.34\r\n",
      "  Downloading dagshub-0.3.34-py3-none-any.whl.metadata (11 kB)\r\n",
      "Requirement already satisfied: PyYAML>=5 in /usr/local/lib/python3.11/dist-packages (from dagshub==0.3.34) (6.0.2)\r\n",
      "Collecting fusepy>=3 (from dagshub==0.3.34)\r\n",
      "  Downloading fusepy-3.0.1.tar.gz (11 kB)\r\n",
      "  Preparing metadata (setup.py) ... \u001b[?25l\u001b[?25hdone\r\n",
      "Collecting appdirs>=1.4.4 (from dagshub==0.3.34)\r\n",
      "  Downloading appdirs-1.4.4-py2.py3-none-any.whl.metadata (9.0 kB)\r\n",
      "Requirement already satisfied: click>=8.0.4 in /usr/local/lib/python3.11/dist-packages (from dagshub==0.3.34) (8.1.8)\r\n",
      "Collecting httpx~=0.23.0 (from dagshub==0.3.34)\r\n",
      "  Downloading httpx-0.23.3-py3-none-any.whl.metadata (7.1 kB)\r\n",
      "Requirement already satisfied: GitPython>=3.1.29 in /usr/local/lib/python3.11/dist-packages (from dagshub==0.3.34) (3.1.44)\r\n",
      "Collecting rich~=13.1.0 (from dagshub==0.3.34)\r\n",
      "  Downloading rich-13.1.0-py3-none-any.whl.metadata (18 kB)\r\n",
      "Collecting dacite~=1.6.0 (from dagshub==0.3.34)\r\n",
      "  Downloading dacite-1.6.0-py3-none-any.whl.metadata (14 kB)\r\n",
      "Collecting tenacity~=8.2.2 (from dagshub==0.3.34)\r\n",
      "  Downloading tenacity-8.2.3-py3-none-any.whl.metadata (1.0 kB)\r\n",
      "Collecting gql[requests] (from dagshub==0.3.34)\r\n",
      "  Downloading gql-3.5.3-py2.py3-none-any.whl.metadata (9.4 kB)\r\n",
      "Requirement already satisfied: dataclasses-json in /usr/local/lib/python3.11/dist-packages (from dagshub==0.3.34) (0.6.7)\r\n",
      "Requirement already satisfied: pandas in /usr/local/lib/python3.11/dist-packages (from dagshub==0.3.34) (2.2.3)\r\n",
      "Collecting treelib~=1.6.4 (from dagshub==0.3.34)\r\n",
      "  Downloading treelib-1.6.4-py3-none-any.whl.metadata (1.4 kB)\r\n",
      "Collecting pathvalidate~=3.0.0 (from dagshub==0.3.34)\r\n",
      "  Downloading pathvalidate-3.0.0-py3-none-any.whl.metadata (11 kB)\r\n",
      "Requirement already satisfied: python-dateutil in /usr/local/lib/python3.11/dist-packages (from dagshub==0.3.34) (2.9.0.post0)\r\n",
      "Requirement already satisfied: boto3 in /usr/local/lib/python3.11/dist-packages (from dagshub==0.3.34) (1.38.11)\r\n",
      "Requirement already satisfied: gitdb<5,>=4.0.1 in /usr/local/lib/python3.11/dist-packages (from GitPython>=3.1.29->dagshub==0.3.34) (4.0.12)\r\n",
      "Requirement already satisfied: certifi in /usr/local/lib/python3.11/dist-packages (from httpx~=0.23.0->dagshub==0.3.34) (2025.4.26)\r\n",
      "Collecting httpcore<0.17.0,>=0.15.0 (from httpx~=0.23.0->dagshub==0.3.34)\r\n",
      "  Downloading httpcore-0.16.3-py3-none-any.whl.metadata (16 kB)\r\n",
      "Collecting rfc3986<2,>=1.3 (from rfc3986[idna2008]<2,>=1.3->httpx~=0.23.0->dagshub==0.3.34)\r\n",
      "  Downloading rfc3986-1.5.0-py2.py3-none-any.whl.metadata (6.5 kB)\r\n",
      "Requirement already satisfied: sniffio in /usr/local/lib/python3.11/dist-packages (from httpx~=0.23.0->dagshub==0.3.34) (1.3.1)\r\n",
      "Collecting commonmark<0.10.0,>=0.9.0 (from rich~=13.1.0->dagshub==0.3.34)\r\n",
      "  Downloading commonmark-0.9.1-py2.py3-none-any.whl.metadata (5.7 kB)\r\n",
      "Requirement already satisfied: pygments<3.0.0,>=2.6.0 in /usr/local/lib/python3.11/dist-packages (from rich~=13.1.0->dagshub==0.3.34) (2.19.1)\r\n",
      "Requirement already satisfied: six in /usr/local/lib/python3.11/dist-packages (from treelib~=1.6.4->dagshub==0.3.34) (1.17.0)\r\n",
      "Requirement already satisfied: botocore<1.39.0,>=1.38.11 in /usr/local/lib/python3.11/dist-packages (from boto3->dagshub==0.3.34) (1.38.11)\r\n",
      "Requirement already satisfied: jmespath<2.0.0,>=0.7.1 in /usr/local/lib/python3.11/dist-packages (from boto3->dagshub==0.3.34) (1.0.1)\r\n",
      "Requirement already satisfied: s3transfer<0.13.0,>=0.12.0 in /usr/local/lib/python3.11/dist-packages (from boto3->dagshub==0.3.34) (0.12.0)\r\n",
      "Requirement already satisfied: marshmallow<4.0.0,>=3.18.0 in /usr/local/lib/python3.11/dist-packages (from dataclasses-json->dagshub==0.3.34) (3.26.1)\r\n",
      "Requirement already satisfied: typing-inspect<1,>=0.4.0 in /usr/local/lib/python3.11/dist-packages (from dataclasses-json->dagshub==0.3.34) (0.9.0)\r\n",
      "Requirement already satisfied: graphql-core<3.2.7,>=3.2 in /usr/local/lib/python3.11/dist-packages (from gql[requests]->dagshub==0.3.34) (3.2.6)\r\n",
      "Requirement already satisfied: yarl<2.0,>=1.6 in /usr/local/lib/python3.11/dist-packages (from gql[requests]->dagshub==0.3.34) (1.20.0)\r\n",
      "Collecting backoff<3.0,>=1.11.1 (from gql[requests]->dagshub==0.3.34)\r\n",
      "  Downloading backoff-2.2.1-py3-none-any.whl.metadata (14 kB)\r\n",
      "Requirement already satisfied: anyio<5,>=3.0 in /usr/local/lib/python3.11/dist-packages (from gql[requests]->dagshub==0.3.34) (4.9.0)\r\n",
      "Requirement already satisfied: requests<3,>=2.26 in /usr/local/lib/python3.11/dist-packages (from gql[requests]->dagshub==0.3.34) (2.32.3)\r\n",
      "Requirement already satisfied: requests-toolbelt<2,>=1.0.0 in /usr/local/lib/python3.11/dist-packages (from gql[requests]->dagshub==0.3.34) (1.0.0)\r\n",
      "Requirement already satisfied: numpy>=1.23.2 in /usr/local/lib/python3.11/dist-packages (from pandas->dagshub==0.3.34) (1.26.4)\r\n",
      "Requirement already satisfied: pytz>=2020.1 in /usr/local/lib/python3.11/dist-packages (from pandas->dagshub==0.3.34) (2024.2)\r\n",
      "Requirement already satisfied: tzdata>=2022.7 in /usr/local/lib/python3.11/dist-packages (from pandas->dagshub==0.3.34) (2025.2)\r\n",
      "Requirement already satisfied: idna>=2.8 in /usr/local/lib/python3.11/dist-packages (from anyio<5,>=3.0->gql[requests]->dagshub==0.3.34) (3.10)\r\n",
      "Requirement already satisfied: typing_extensions>=4.5 in /usr/local/lib/python3.11/dist-packages (from anyio<5,>=3.0->gql[requests]->dagshub==0.3.34) (4.13.2)\r\n",
      "Requirement already satisfied: urllib3!=2.2.0,<3,>=1.25.4 in /usr/local/lib/python3.11/dist-packages (from botocore<1.39.0,>=1.38.11->boto3->dagshub==0.3.34) (2.4.0)\r\n",
      "Requirement already satisfied: smmap<6,>=3.0.1 in /usr/local/lib/python3.11/dist-packages (from gitdb<5,>=4.0.1->GitPython>=3.1.29->dagshub==0.3.34) (5.0.2)\r\n",
      "Requirement already satisfied: h11<0.15,>=0.13 in /usr/local/lib/python3.11/dist-packages (from httpcore<0.17.0,>=0.15.0->httpx~=0.23.0->dagshub==0.3.34) (0.14.0)\r\n",
      "Requirement already satisfied: packaging>=17.0 in /usr/local/lib/python3.11/dist-packages (from marshmallow<4.0.0,>=3.18.0->dataclasses-json->dagshub==0.3.34) (24.2)\r\n",
      "Requirement already satisfied: mkl_fft in /usr/local/lib/python3.11/dist-packages (from numpy>=1.23.2->pandas->dagshub==0.3.34) (1.3.8)\r\n",
      "Requirement already satisfied: mkl_random in /usr/local/lib/python3.11/dist-packages (from numpy>=1.23.2->pandas->dagshub==0.3.34) (1.2.4)\r\n",
      "Requirement already satisfied: mkl_umath in /usr/local/lib/python3.11/dist-packages (from numpy>=1.23.2->pandas->dagshub==0.3.34) (0.1.1)\r\n",
      "Requirement already satisfied: mkl in /usr/local/lib/python3.11/dist-packages (from numpy>=1.23.2->pandas->dagshub==0.3.34) (2025.1.0)\r\n",
      "Requirement already satisfied: tbb4py in /usr/local/lib/python3.11/dist-packages (from numpy>=1.23.2->pandas->dagshub==0.3.34) (2022.1.0)\r\n",
      "Requirement already satisfied: mkl-service in /usr/local/lib/python3.11/dist-packages (from numpy>=1.23.2->pandas->dagshub==0.3.34) (2.4.1)\r\n",
      "Requirement already satisfied: charset-normalizer<4,>=2 in /usr/local/lib/python3.11/dist-packages (from requests<3,>=2.26->gql[requests]->dagshub==0.3.34) (3.4.2)\r\n",
      "Requirement already satisfied: mypy-extensions>=0.3.0 in /usr/local/lib/python3.11/dist-packages (from typing-inspect<1,>=0.4.0->dataclasses-json->dagshub==0.3.34) (1.1.0)\r\n",
      "Requirement already satisfied: multidict>=4.0 in /usr/local/lib/python3.11/dist-packages (from yarl<2.0,>=1.6->gql[requests]->dagshub==0.3.34) (6.4.3)\r\n",
      "Requirement already satisfied: propcache>=0.2.1 in /usr/local/lib/python3.11/dist-packages (from yarl<2.0,>=1.6->gql[requests]->dagshub==0.3.34) (0.3.1)\r\n",
      "Requirement already satisfied: intel-openmp<2026,>=2024 in /usr/local/lib/python3.11/dist-packages (from mkl->numpy>=1.23.2->pandas->dagshub==0.3.34) (2024.2.0)\r\n",
      "Requirement already satisfied: tbb==2022.* in /usr/local/lib/python3.11/dist-packages (from mkl->numpy>=1.23.2->pandas->dagshub==0.3.34) (2022.1.0)\r\n",
      "Requirement already satisfied: tcmlib==1.* in /usr/local/lib/python3.11/dist-packages (from tbb==2022.*->mkl->numpy>=1.23.2->pandas->dagshub==0.3.34) (1.3.0)\r\n",
      "Requirement already satisfied: intel-cmplr-lib-rt in /usr/local/lib/python3.11/dist-packages (from mkl_umath->numpy>=1.23.2->pandas->dagshub==0.3.34) (2024.2.0)\r\n",
      "Requirement already satisfied: intel-cmplr-lib-ur==2024.2.0 in /usr/local/lib/python3.11/dist-packages (from intel-openmp<2026,>=2024->mkl->numpy>=1.23.2->pandas->dagshub==0.3.34) (2024.2.0)\r\n",
      "Downloading dagshub-0.3.34-py3-none-any.whl (236 kB)\r\n",
      "\u001b[2K   \u001b[90m━━━━━━━━━━━━━━━━━━━━━━━━━━━━━━━━━━━━━━━━\u001b[0m \u001b[32m236.6/236.6 kB\u001b[0m \u001b[31m8.7 MB/s\u001b[0m eta \u001b[36m0:00:00\u001b[0m\r\n",
      "\u001b[?25hDownloading appdirs-1.4.4-py2.py3-none-any.whl (9.6 kB)\r\n",
      "Downloading dacite-1.6.0-py3-none-any.whl (12 kB)\r\n",
      "Downloading httpx-0.23.3-py3-none-any.whl (71 kB)\r\n",
      "\u001b[2K   \u001b[90m━━━━━━━━━━━━━━━━━━━━━━━━━━━━━━━━━━━━━━━━\u001b[0m \u001b[32m71.5/71.5 kB\u001b[0m \u001b[31m3.3 MB/s\u001b[0m eta \u001b[36m0:00:00\u001b[0m\r\n",
      "\u001b[?25hDownloading pathvalidate-3.0.0-py3-none-any.whl (21 kB)\r\n",
      "Downloading rich-13.1.0-py3-none-any.whl (238 kB)\r\n",
      "\u001b[2K   \u001b[90m━━━━━━━━━━━━━━━━━━━━━━━━━━━━━━━━━━━━━━━━\u001b[0m \u001b[32m238.4/238.4 kB\u001b[0m \u001b[31m1.7 MB/s\u001b[0m eta \u001b[36m0:00:00\u001b[0m\r\n",
      "\u001b[?25hDownloading tenacity-8.2.3-py3-none-any.whl (24 kB)\r\n",
      "Downloading treelib-1.6.4-py3-none-any.whl (18 kB)\r\n",
      "Downloading backoff-2.2.1-py3-none-any.whl (15 kB)\r\n",
      "Downloading commonmark-0.9.1-py2.py3-none-any.whl (51 kB)\r\n",
      "\u001b[2K   \u001b[90m━━━━━━━━━━━━━━━━━━━━━━━━━━━━━━━━━━━━━━━━\u001b[0m \u001b[32m51.1/51.1 kB\u001b[0m \u001b[31m2.4 MB/s\u001b[0m eta \u001b[36m0:00:00\u001b[0m\r\n",
      "\u001b[?25hDownloading httpcore-0.16.3-py3-none-any.whl (69 kB)\r\n",
      "\u001b[2K   \u001b[90m━━━━━━━━━━━━━━━━━━━━━━━━━━━━━━━━━━━━━━━━\u001b[0m \u001b[32m69.6/69.6 kB\u001b[0m \u001b[31m2.8 MB/s\u001b[0m eta \u001b[36m0:00:00\u001b[0m\r\n",
      "\u001b[?25hDownloading rfc3986-1.5.0-py2.py3-none-any.whl (31 kB)\r\n",
      "Downloading gql-3.5.3-py2.py3-none-any.whl (74 kB)\r\n",
      "\u001b[2K   \u001b[90m━━━━━━━━━━━━━━━━━━━━━━━━━━━━━━━━━━━━━━━━\u001b[0m \u001b[32m74.3/74.3 kB\u001b[0m \u001b[31m3.5 MB/s\u001b[0m eta \u001b[36m0:00:00\u001b[0m\r\n",
      "\u001b[?25hBuilding wheels for collected packages: fusepy\r\n",
      "  Building wheel for fusepy (setup.py) ... \u001b[?25l\u001b[?25hdone\r\n",
      "  Created wheel for fusepy: filename=fusepy-3.0.1-py3-none-any.whl size=10486 sha256=37c0cddd0c2fd6c4436f9e3172d72d31b2bd398fcc0b3e841c9ad7a2160cfa21\r\n",
      "  Stored in directory: /root/.cache/pip/wheels/db/4a/86/fdda91f8b8ebb0a70e4181dc2423b1f70c3c2d3bd1158685b5\r\n",
      "Successfully built fusepy\r\n",
      "Installing collected packages: rfc3986, fusepy, commonmark, appdirs, treelib, tenacity, rich, pathvalidate, dacite, backoff, httpcore, gql, httpx, dagshub\r\n",
      "  Attempting uninstall: tenacity\r\n",
      "    Found existing installation: tenacity 9.1.2\r\n",
      "    Uninstalling tenacity-9.1.2:\r\n",
      "      Successfully uninstalled tenacity-9.1.2\r\n",
      "  Attempting uninstall: rich\r\n",
      "    Found existing installation: rich 14.0.0\r\n",
      "    Uninstalling rich-14.0.0:\r\n",
      "      Successfully uninstalled rich-14.0.0\r\n",
      "  Attempting uninstall: dacite\r\n",
      "    Found existing installation: dacite 1.9.2\r\n",
      "    Uninstalling dacite-1.9.2:\r\n",
      "      Successfully uninstalled dacite-1.9.2\r\n",
      "  Attempting uninstall: httpcore\r\n",
      "    Found existing installation: httpcore 1.0.7\r\n",
      "    Uninstalling httpcore-1.0.7:\r\n",
      "      Successfully uninstalled httpcore-1.0.7\r\n",
      "  Attempting uninstall: httpx\r\n",
      "    Found existing installation: httpx 0.28.1\r\n",
      "    Uninstalling httpx-0.28.1:\r\n",
      "      Successfully uninstalled httpx-0.28.1\r\n",
      "\u001b[31mERROR: pip's dependency resolver does not currently take into account all the packages that are installed. This behaviour is the source of the following dependency conflicts.\r\n",
      "ydata-profiling 4.16.1 requires dacite>=1.8, but you have dacite 1.6.0 which is incompatible.\r\n",
      "pymc 5.21.2 requires rich>=13.7.1, but you have rich 13.1.0 which is incompatible.\r\n",
      "google-genai 1.9.0 requires httpx<1.0.0,>=0.28.1, but you have httpx 0.23.3 which is incompatible.\u001b[0m\u001b[31m\r\n",
      "\u001b[0mSuccessfully installed appdirs-1.4.4 backoff-2.2.1 commonmark-0.9.1 dacite-1.6.0 dagshub-0.3.34 fusepy-3.0.1 gql-3.5.3 httpcore-0.16.3 httpx-0.23.3 pathvalidate-3.0.0 rfc3986-1.5.0 rich-13.1.0 tenacity-8.2.3 treelib-1.6.4\r\n"
     ]
    }
   ],
   "source": [
    "!pip install dagshub==0.3.34"
   ]
  },
  {
   "cell_type": "code",
   "execution_count": 3,
   "id": "45e4a542",
   "metadata": {
    "execution": {
     "iopub.execute_input": "2025-06-18T16:52:02.734916Z",
     "iopub.status.busy": "2025-06-18T16:52:02.734493Z",
     "iopub.status.idle": "2025-06-18T16:52:08.504950Z",
     "shell.execute_reply": "2025-06-18T16:52:08.503839Z"
    },
    "papermill": {
     "duration": 5.78604,
     "end_time": "2025-06-18T16:52:08.507214",
     "exception": false,
     "start_time": "2025-06-18T16:52:02.721174",
     "status": "completed"
    },
    "tags": []
   },
   "outputs": [],
   "source": [
    "import mlflow\n",
    "import mlflow.sklearn\n",
    "import dagshub\n",
    "import os"
   ]
  },
  {
   "cell_type": "code",
   "execution_count": 4,
   "id": "ab68e86f",
   "metadata": {
    "execution": {
     "iopub.execute_input": "2025-06-18T16:52:08.533181Z",
     "iopub.status.busy": "2025-06-18T16:52:08.532226Z",
     "iopub.status.idle": "2025-06-18T16:52:08.725925Z",
     "shell.execute_reply": "2025-06-18T16:52:08.724680Z"
    },
    "papermill": {
     "duration": 0.209287,
     "end_time": "2025-06-18T16:52:08.727892",
     "exception": false,
     "start_time": "2025-06-18T16:52:08.518605",
     "status": "completed"
    },
    "tags": []
   },
   "outputs": [],
   "source": [
    "from kaggle_secrets import UserSecretsClient\n",
    "user_secrets = UserSecretsClient()\n",
    "dagshub_token = user_secrets.get_secret(\"DAGSHUB_PAT\")"
   ]
  },
  {
   "cell_type": "code",
   "execution_count": 5,
   "id": "94e16e4f",
   "metadata": {
    "execution": {
     "iopub.execute_input": "2025-06-18T16:52:08.752036Z",
     "iopub.status.busy": "2025-06-18T16:52:08.751666Z",
     "iopub.status.idle": "2025-06-18T16:52:08.756954Z",
     "shell.execute_reply": "2025-06-18T16:52:08.755909Z"
    },
    "papermill": {
     "duration": 0.019831,
     "end_time": "2025-06-18T16:52:08.758772",
     "exception": false,
     "start_time": "2025-06-18T16:52:08.738941",
     "status": "completed"
    },
    "tags": []
   },
   "outputs": [],
   "source": [
    "if not dagshub_token:\n",
    "    raise EnvironmentError(\"DAGSHUB_PAT environment variable is not set\")\n",
    "\n",
    "os.environ[\"MLFLOW_TRACKING_USERNAME\"] = dagshub_token\n",
    "os.environ[\"MLFLOW_TRACKING_PASSWORD\"] = dagshub_token"
   ]
  },
  {
   "cell_type": "code",
   "execution_count": 6,
   "id": "2f695df0",
   "metadata": {
    "execution": {
     "iopub.execute_input": "2025-06-18T16:52:08.781800Z",
     "iopub.status.busy": "2025-06-18T16:52:08.781475Z",
     "iopub.status.idle": "2025-06-18T16:52:08.786413Z",
     "shell.execute_reply": "2025-06-18T16:52:08.785513Z"
    },
    "papermill": {
     "duration": 0.018484,
     "end_time": "2025-06-18T16:52:08.788080",
     "exception": false,
     "start_time": "2025-06-18T16:52:08.769596",
     "status": "completed"
    },
    "tags": []
   },
   "outputs": [],
   "source": [
    "dagshub_url = \"https://dagshub.com\"\n",
    "repo_owner = \"pxxthik\"\n",
    "repo_name = \"Titanic-Survival-Prediction\"\n",
    "\n",
    "# Set up MLflow tracking URI\n",
    "mlflow.set_tracking_uri(f'{dagshub_url}/{repo_owner}/{repo_name}.mlflow')"
   ]
  },
  {
   "cell_type": "code",
   "execution_count": 7,
   "id": "759c9fff",
   "metadata": {
    "execution": {
     "iopub.execute_input": "2025-06-18T16:52:08.810513Z",
     "iopub.status.busy": "2025-06-18T16:52:08.810191Z",
     "iopub.status.idle": "2025-06-18T16:52:10.047445Z",
     "shell.execute_reply": "2025-06-18T16:52:10.046433Z"
    },
    "papermill": {
     "duration": 1.250643,
     "end_time": "2025-06-18T16:52:10.049267",
     "exception": false,
     "start_time": "2025-06-18T16:52:08.798624",
     "status": "completed"
    },
    "tags": []
   },
   "outputs": [
    {
     "name": "stderr",
     "output_type": "stream",
     "text": [
      "2025/06/18 16:52:09 INFO mlflow.tracking._tracking_service.client: 🏃 View run burly-kite-413 at: https://dagshub.com/pxxthik/Titanic-Survival-Prediction.mlflow/#/experiments/0/runs/163ed6d380394320ab2563ff58456d0a.\n",
      "2025/06/18 16:52:09 INFO mlflow.tracking._tracking_service.client: 🧪 View experiment at: https://dagshub.com/pxxthik/Titanic-Survival-Prediction.mlflow/#/experiments/0.\n"
     ]
    }
   ],
   "source": [
    "with mlflow.start_run():\n",
    "    mlflow.log_param(\"Parameter\", \"value\")\n",
    "    mlflow.log_metric(\"Metric\", 1)"
   ]
  },
  {
   "cell_type": "code",
   "execution_count": 8,
   "id": "e0c0d571",
   "metadata": {
    "execution": {
     "iopub.execute_input": "2025-06-18T16:52:10.072130Z",
     "iopub.status.busy": "2025-06-18T16:52:10.071765Z",
     "iopub.status.idle": "2025-06-18T16:52:11.620571Z",
     "shell.execute_reply": "2025-06-18T16:52:11.619343Z"
    },
    "papermill": {
     "duration": 1.562969,
     "end_time": "2025-06-18T16:52:11.623224",
     "exception": false,
     "start_time": "2025-06-18T16:52:10.060255",
     "status": "completed"
    },
    "tags": []
   },
   "outputs": [],
   "source": [
    "import numpy as np\n",
    "import pandas as pd\n",
    "\n",
    "from sklearn.model_selection import train_test_split\n",
    "from sklearn.metrics import accuracy_score, precision_score, recall_score\n",
    "from sklearn.metrics import roc_auc_score\n",
    "\n",
    "from sklearn.linear_model import LogisticRegression\n",
    "from sklearn.model_selection import cross_val_score"
   ]
  },
  {
   "cell_type": "code",
   "execution_count": 9,
   "id": "d7207c82",
   "metadata": {
    "execution": {
     "iopub.execute_input": "2025-06-18T16:52:11.660829Z",
     "iopub.status.busy": "2025-06-18T16:52:11.660202Z",
     "iopub.status.idle": "2025-06-18T16:52:11.698012Z",
     "shell.execute_reply": "2025-06-18T16:52:11.696400Z"
    },
    "papermill": {
     "duration": 0.056754,
     "end_time": "2025-06-18T16:52:11.699894",
     "exception": false,
     "start_time": "2025-06-18T16:52:11.643140",
     "status": "completed"
    },
    "tags": []
   },
   "outputs": [],
   "source": [
    "df = pd.read_csv(\"/kaggle/input/titanic-features/titanic_features.csv\")\n",
    "X = df.drop(columns=[\"Survived\"])\n",
    "y = df[\"Survived\"]"
   ]
  },
  {
   "cell_type": "code",
   "execution_count": 10,
   "id": "8ad7e209",
   "metadata": {
    "execution": {
     "iopub.execute_input": "2025-06-18T16:52:11.725800Z",
     "iopub.status.busy": "2025-06-18T16:52:11.725360Z",
     "iopub.status.idle": "2025-06-18T16:52:11.737075Z",
     "shell.execute_reply": "2025-06-18T16:52:11.735740Z"
    },
    "papermill": {
     "duration": 0.027394,
     "end_time": "2025-06-18T16:52:11.739428",
     "exception": false,
     "start_time": "2025-06-18T16:52:11.712034",
     "status": "completed"
    },
    "tags": []
   },
   "outputs": [],
   "source": [
    "X_train, X_test, y_train, y_test = train_test_split(X, y, test_size=0.2,\n",
    "                                                   random_state=42)"
   ]
  },
  {
   "cell_type": "code",
   "execution_count": 11,
   "id": "29e93c54",
   "metadata": {
    "execution": {
     "iopub.execute_input": "2025-06-18T16:52:11.771685Z",
     "iopub.status.busy": "2025-06-18T16:52:11.770489Z",
     "iopub.status.idle": "2025-06-18T16:52:11.779500Z",
     "shell.execute_reply": "2025-06-18T16:52:11.777942Z"
    },
    "papermill": {
     "duration": 0.024032,
     "end_time": "2025-06-18T16:52:11.781552",
     "exception": false,
     "start_time": "2025-06-18T16:52:11.757520",
     "status": "completed"
    },
    "tags": []
   },
   "outputs": [
    {
     "data": {
      "text/plain": [
       "((712, 10), (179, 10), (712,), (179,))"
      ]
     },
     "execution_count": 11,
     "metadata": {},
     "output_type": "execute_result"
    }
   ],
   "source": [
    "X_train.shape, X_test.shape, y_train.shape, y_test.shape"
   ]
  },
  {
   "cell_type": "code",
   "execution_count": 12,
   "id": "e25d7046",
   "metadata": {
    "execution": {
     "iopub.execute_input": "2025-06-18T16:52:11.814951Z",
     "iopub.status.busy": "2025-06-18T16:52:11.814619Z",
     "iopub.status.idle": "2025-06-18T16:52:12.358257Z",
     "shell.execute_reply": "2025-06-18T16:52:12.356097Z"
    },
    "papermill": {
     "duration": 0.562535,
     "end_time": "2025-06-18T16:52:12.362351",
     "exception": false,
     "start_time": "2025-06-18T16:52:11.799816",
     "status": "completed"
    },
    "tags": []
   },
   "outputs": [
    {
     "name": "stderr",
     "output_type": "stream",
     "text": [
      "/usr/local/lib/python3.11/dist-packages/sklearn/linear_model/_logistic.py:458: ConvergenceWarning: lbfgs failed to converge (status=1):\n",
      "STOP: TOTAL NO. OF ITERATIONS REACHED LIMIT.\n",
      "\n",
      "Increase the number of iterations (max_iter) or scale the data as shown in:\n",
      "    https://scikit-learn.org/stable/modules/preprocessing.html\n",
      "Please also refer to the documentation for alternative solver options:\n",
      "    https://scikit-learn.org/stable/modules/linear_model.html#logistic-regression\n",
      "  n_iter_i = _check_optimize_result(\n"
     ]
    },
    {
     "data": {
      "text/html": [
       "<style>#sk-container-id-1 {color: black;background-color: white;}#sk-container-id-1 pre{padding: 0;}#sk-container-id-1 div.sk-toggleable {background-color: white;}#sk-container-id-1 label.sk-toggleable__label {cursor: pointer;display: block;width: 100%;margin-bottom: 0;padding: 0.3em;box-sizing: border-box;text-align: center;}#sk-container-id-1 label.sk-toggleable__label-arrow:before {content: \"▸\";float: left;margin-right: 0.25em;color: #696969;}#sk-container-id-1 label.sk-toggleable__label-arrow:hover:before {color: black;}#sk-container-id-1 div.sk-estimator:hover label.sk-toggleable__label-arrow:before {color: black;}#sk-container-id-1 div.sk-toggleable__content {max-height: 0;max-width: 0;overflow: hidden;text-align: left;background-color: #f0f8ff;}#sk-container-id-1 div.sk-toggleable__content pre {margin: 0.2em;color: black;border-radius: 0.25em;background-color: #f0f8ff;}#sk-container-id-1 input.sk-toggleable__control:checked~div.sk-toggleable__content {max-height: 200px;max-width: 100%;overflow: auto;}#sk-container-id-1 input.sk-toggleable__control:checked~label.sk-toggleable__label-arrow:before {content: \"▾\";}#sk-container-id-1 div.sk-estimator input.sk-toggleable__control:checked~label.sk-toggleable__label {background-color: #d4ebff;}#sk-container-id-1 div.sk-label input.sk-toggleable__control:checked~label.sk-toggleable__label {background-color: #d4ebff;}#sk-container-id-1 input.sk-hidden--visually {border: 0;clip: rect(1px 1px 1px 1px);clip: rect(1px, 1px, 1px, 1px);height: 1px;margin: -1px;overflow: hidden;padding: 0;position: absolute;width: 1px;}#sk-container-id-1 div.sk-estimator {font-family: monospace;background-color: #f0f8ff;border: 1px dotted black;border-radius: 0.25em;box-sizing: border-box;margin-bottom: 0.5em;}#sk-container-id-1 div.sk-estimator:hover {background-color: #d4ebff;}#sk-container-id-1 div.sk-parallel-item::after {content: \"\";width: 100%;border-bottom: 1px solid gray;flex-grow: 1;}#sk-container-id-1 div.sk-label:hover label.sk-toggleable__label {background-color: #d4ebff;}#sk-container-id-1 div.sk-serial::before {content: \"\";position: absolute;border-left: 1px solid gray;box-sizing: border-box;top: 0;bottom: 0;left: 50%;z-index: 0;}#sk-container-id-1 div.sk-serial {display: flex;flex-direction: column;align-items: center;background-color: white;padding-right: 0.2em;padding-left: 0.2em;position: relative;}#sk-container-id-1 div.sk-item {position: relative;z-index: 1;}#sk-container-id-1 div.sk-parallel {display: flex;align-items: stretch;justify-content: center;background-color: white;position: relative;}#sk-container-id-1 div.sk-item::before, #sk-container-id-1 div.sk-parallel-item::before {content: \"\";position: absolute;border-left: 1px solid gray;box-sizing: border-box;top: 0;bottom: 0;left: 50%;z-index: -1;}#sk-container-id-1 div.sk-parallel-item {display: flex;flex-direction: column;z-index: 1;position: relative;background-color: white;}#sk-container-id-1 div.sk-parallel-item:first-child::after {align-self: flex-end;width: 50%;}#sk-container-id-1 div.sk-parallel-item:last-child::after {align-self: flex-start;width: 50%;}#sk-container-id-1 div.sk-parallel-item:only-child::after {width: 0;}#sk-container-id-1 div.sk-dashed-wrapped {border: 1px dashed gray;margin: 0 0.4em 0.5em 0.4em;box-sizing: border-box;padding-bottom: 0.4em;background-color: white;}#sk-container-id-1 div.sk-label label {font-family: monospace;font-weight: bold;display: inline-block;line-height: 1.2em;}#sk-container-id-1 div.sk-label-container {text-align: center;}#sk-container-id-1 div.sk-container {/* jupyter's `normalize.less` sets `[hidden] { display: none; }` but bootstrap.min.css set `[hidden] { display: none !important; }` so we also need the `!important` here to be able to override the default hidden behavior on the sphinx rendered scikit-learn.org. See: https://github.com/scikit-learn/scikit-learn/issues/21755 */display: inline-block !important;position: relative;}#sk-container-id-1 div.sk-text-repr-fallback {display: none;}</style><div id=\"sk-container-id-1\" class=\"sk-top-container\"><div class=\"sk-text-repr-fallback\"><pre>LogisticRegression()</pre><b>In a Jupyter environment, please rerun this cell to show the HTML representation or trust the notebook. <br />On GitHub, the HTML representation is unable to render, please try loading this page with nbviewer.org.</b></div><div class=\"sk-container\" hidden><div class=\"sk-item\"><div class=\"sk-estimator sk-toggleable\"><input class=\"sk-toggleable__control sk-hidden--visually\" id=\"sk-estimator-id-1\" type=\"checkbox\" checked><label for=\"sk-estimator-id-1\" class=\"sk-toggleable__label sk-toggleable__label-arrow\">LogisticRegression</label><div class=\"sk-toggleable__content\"><pre>LogisticRegression()</pre></div></div></div></div></div>"
      ],
      "text/plain": [
       "LogisticRegression()"
      ]
     },
     "execution_count": 12,
     "metadata": {},
     "output_type": "execute_result"
    }
   ],
   "source": [
    "model = LogisticRegression()\n",
    "model.fit(X_train, y_train)"
   ]
  },
  {
   "cell_type": "code",
   "execution_count": 13,
   "id": "634943ad",
   "metadata": {
    "execution": {
     "iopub.execute_input": "2025-06-18T16:52:12.412802Z",
     "iopub.status.busy": "2025-06-18T16:52:12.411315Z",
     "iopub.status.idle": "2025-06-18T16:52:12.423741Z",
     "shell.execute_reply": "2025-06-18T16:52:12.422929Z"
    },
    "papermill": {
     "duration": 0.038598,
     "end_time": "2025-06-18T16:52:12.425789",
     "exception": false,
     "start_time": "2025-06-18T16:52:12.387191",
     "status": "completed"
    },
    "tags": []
   },
   "outputs": [],
   "source": [
    "y_pred = model.predict(X_test)"
   ]
  },
  {
   "cell_type": "code",
   "execution_count": 14,
   "id": "d4d1443b",
   "metadata": {
    "execution": {
     "iopub.execute_input": "2025-06-18T16:52:12.457537Z",
     "iopub.status.busy": "2025-06-18T16:52:12.457197Z",
     "iopub.status.idle": "2025-06-18T16:52:12.476222Z",
     "shell.execute_reply": "2025-06-18T16:52:12.474903Z"
    },
    "papermill": {
     "duration": 0.033897,
     "end_time": "2025-06-18T16:52:12.478549",
     "exception": false,
     "start_time": "2025-06-18T16:52:12.444652",
     "status": "completed"
    },
    "tags": []
   },
   "outputs": [
    {
     "name": "stdout",
     "output_type": "stream",
     "text": [
      "Accuracy: 0.7932960893854749\n",
      "Precision: 0.7761194029850746\n",
      "Recall: 0.7027027027027027\n",
      "ROC AUC: 0.7799227799227799\n"
     ]
    }
   ],
   "source": [
    "accuracy = accuracy_score(y_test, y_pred)\n",
    "precision = precision_score(y_test, y_pred)\n",
    "recall = recall_score(y_test, y_pred)\n",
    "roc_auc = roc_auc_score(y_test, y_pred)\n",
    "\n",
    "print(f\"Accuracy: {accuracy}\")\n",
    "print(f\"Precision: {precision}\")\n",
    "print(f\"Recall: {recall}\")\n",
    "print(f\"ROC AUC: {roc_auc}\")"
   ]
  },
  {
   "cell_type": "code",
   "execution_count": 15,
   "id": "a65a1bd8",
   "metadata": {
    "execution": {
     "iopub.execute_input": "2025-06-18T16:52:12.504586Z",
     "iopub.status.busy": "2025-06-18T16:52:12.504203Z",
     "iopub.status.idle": "2025-06-18T16:52:12.510218Z",
     "shell.execute_reply": "2025-06-18T16:52:12.509198Z"
    },
    "papermill": {
     "duration": 0.021597,
     "end_time": "2025-06-18T16:52:12.512006",
     "exception": false,
     "start_time": "2025-06-18T16:52:12.490409",
     "status": "completed"
    },
    "tags": []
   },
   "outputs": [],
   "source": [
    "import json\n",
    "\n",
    "metrics = {\n",
    "    \"accuracy\": accuracy,\n",
    "    \"precision\": precision,\n",
    "    \"recall\": recall,\n",
    "    \"roc_auc\": roc_auc,\n",
    "}\n",
    "\n",
    "with open(\"metrics.json\", 'w') as file:\n",
    "    json.dump(metrics, file, indent=4)"
   ]
  },
  {
   "cell_type": "code",
   "execution_count": 16,
   "id": "950d9be3",
   "metadata": {
    "execution": {
     "iopub.execute_input": "2025-06-18T16:52:12.538147Z",
     "iopub.status.busy": "2025-06-18T16:52:12.537679Z",
     "iopub.status.idle": "2025-06-18T16:52:41.570796Z",
     "shell.execute_reply": "2025-06-18T16:52:41.569386Z"
    },
    "papermill": {
     "duration": 29.049051,
     "end_time": "2025-06-18T16:52:41.572573",
     "exception": false,
     "start_time": "2025-06-18T16:52:12.523522",
     "status": "completed"
    },
    "tags": []
   },
   "outputs": [
    {
     "name": "stderr",
     "output_type": "stream",
     "text": [
      "2025/06/18 16:52:38 WARNING mlflow.utils.environment: Encountered an unexpected error while inferring pip requirements (model URI: /tmp/tmpvxkerl8f/model/model.pkl, flavor: sklearn). Fall back to return ['scikit-learn==1.2.2', 'cloudpickle==3.1.1']. Set logging level to DEBUG to see the full traceback. \n",
      "2025/06/18 16:52:41 WARNING mlflow.models.model: Input example should be provided to infer model signature if the model signature is not provided when logging the model.\n",
      "2025/06/18 16:52:41 INFO mlflow.tracking._tracking_service.client: 🏃 View run popular-rat-751 at: https://dagshub.com/pxxthik/Titanic-Survival-Prediction.mlflow/#/experiments/1/runs/8a6bb03d5d8140c5b4c4d89b53707728.\n",
      "2025/06/18 16:52:41 INFO mlflow.tracking._tracking_service.client: 🧪 View experiment at: https://dagshub.com/pxxthik/Titanic-Survival-Prediction.mlflow/#/experiments/1.\n"
     ]
    }
   ],
   "source": [
    "mlflow.set_experiment(\"baseline model\")\n",
    "with mlflow.start_run():\n",
    "    \n",
    "    if hasattr(model, 'get_params'):\n",
    "        params = model.get_params()\n",
    "        for param_name, param_value in params.items():\n",
    "            mlflow.log_param(param_name, param_value)\n",
    "\n",
    "    for key, value in metrics.items():\n",
    "        mlflow.log_metric(key, value)\n",
    "\n",
    "    mlflow.log_artifact('/kaggle/working/metrics.json')\n",
    "    mlflow.sklearn.log_model(model, \"baseline_model\")"
   ]
  },
  {
   "cell_type": "code",
   "execution_count": 17,
   "id": "82e89666",
   "metadata": {
    "execution": {
     "iopub.execute_input": "2025-06-18T16:52:41.599512Z",
     "iopub.status.busy": "2025-06-18T16:52:41.599111Z",
     "iopub.status.idle": "2025-06-18T16:52:41.605863Z",
     "shell.execute_reply": "2025-06-18T16:52:41.604792Z"
    },
    "papermill": {
     "duration": 0.023297,
     "end_time": "2025-06-18T16:52:41.607693",
     "exception": false,
     "start_time": "2025-06-18T16:52:41.584396",
     "status": "completed"
    },
    "tags": []
   },
   "outputs": [
    {
     "data": {
      "text/plain": [
       "'2.15.0'"
      ]
     },
     "execution_count": 17,
     "metadata": {},
     "output_type": "execute_result"
    }
   ],
   "source": [
    "mlflow.__version__"
   ]
  },
  {
   "cell_type": "code",
   "execution_count": 18,
   "id": "a0995333",
   "metadata": {
    "execution": {
     "iopub.execute_input": "2025-06-18T16:52:41.633852Z",
     "iopub.status.busy": "2025-06-18T16:52:41.633479Z",
     "iopub.status.idle": "2025-06-18T16:52:41.639798Z",
     "shell.execute_reply": "2025-06-18T16:52:41.638644Z"
    },
    "papermill": {
     "duration": 0.022298,
     "end_time": "2025-06-18T16:52:41.642729",
     "exception": false,
     "start_time": "2025-06-18T16:52:41.620431",
     "status": "completed"
    },
    "tags": []
   },
   "outputs": [
    {
     "data": {
      "text/plain": [
       "'0.3.34'"
      ]
     },
     "execution_count": 18,
     "metadata": {},
     "output_type": "execute_result"
    }
   ],
   "source": [
    "dagshub.__version__"
   ]
  },
  {
   "cell_type": "code",
   "execution_count": 19,
   "id": "9c1fab23",
   "metadata": {
    "execution": {
     "iopub.execute_input": "2025-06-18T16:52:41.745585Z",
     "iopub.status.busy": "2025-06-18T16:52:41.745265Z",
     "iopub.status.idle": "2025-06-18T16:52:43.372127Z",
     "shell.execute_reply": "2025-06-18T16:52:43.369712Z"
    },
    "papermill": {
     "duration": 1.642173,
     "end_time": "2025-06-18T16:52:43.374498",
     "exception": false,
     "start_time": "2025-06-18T16:52:41.732325",
     "status": "completed"
    },
    "tags": []
   },
   "outputs": [
    {
     "name": "stdout",
     "output_type": "stream",
     "text": [
      "Found existing installation: dagshub 0.3.34\r\n",
      "Uninstalling dagshub-0.3.34:\r\n",
      "  Successfully uninstalled dagshub-0.3.34\r\n"
     ]
    }
   ],
   "source": [
    "!pip uninstall dagshub -y"
   ]
  },
  {
   "cell_type": "code",
   "execution_count": 20,
   "id": "1a15a008",
   "metadata": {
    "execution": {
     "iopub.execute_input": "2025-06-18T16:52:43.401525Z",
     "iopub.status.busy": "2025-06-18T16:52:43.400186Z",
     "iopub.status.idle": "2025-06-18T16:52:43.406089Z",
     "shell.execute_reply": "2025-06-18T16:52:43.405018Z"
    },
    "papermill": {
     "duration": 0.021198,
     "end_time": "2025-06-18T16:52:43.408268",
     "exception": false,
     "start_time": "2025-06-18T16:52:43.387070",
     "status": "completed"
    },
    "tags": []
   },
   "outputs": [],
   "source": [
    "import dagshub"
   ]
  },
  {
   "cell_type": "code",
   "execution_count": null,
   "id": "174f11d1",
   "metadata": {
    "papermill": {
     "duration": 0.011591,
     "end_time": "2025-06-18T16:52:43.437285",
     "exception": false,
     "start_time": "2025-06-18T16:52:43.425694",
     "status": "completed"
    },
    "tags": []
   },
   "outputs": [],
   "source": []
  }
 ],
 "metadata": {
  "kaggle": {
   "accelerator": "none",
   "dataSources": [
    {
     "datasetId": 7691047,
     "sourceId": 12208962,
     "sourceType": "datasetVersion"
    }
   ],
   "dockerImageVersionId": 31040,
   "isGpuEnabled": false,
   "isInternetEnabled": true,
   "language": "python",
   "sourceType": "notebook"
  },
  "kernelspec": {
   "display_name": "Python 3",
   "language": "python",
   "name": "python3"
  },
  "language_info": {
   "codemirror_mode": {
    "name": "ipython",
    "version": 3
   },
   "file_extension": ".py",
   "mimetype": "text/x-python",
   "name": "python",
   "nbconvert_exporter": "python",
   "pygments_lexer": "ipython3",
   "version": "3.11.11"
  },
  "papermill": {
   "default_parameters": {},
   "duration": 81.258905,
   "end_time": "2025-06-18T16:52:44.980625",
   "environment_variables": {},
   "exception": null,
   "input_path": "__notebook__.ipynb",
   "output_path": "__notebook__.ipynb",
   "parameters": {},
   "start_time": "2025-06-18T16:51:23.721720",
   "version": "2.6.0"
  }
 },
 "nbformat": 4,
 "nbformat_minor": 5
}
