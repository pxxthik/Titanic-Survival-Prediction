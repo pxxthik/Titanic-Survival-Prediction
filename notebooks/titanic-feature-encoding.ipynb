{
 "cells": [
  {
   "cell_type": "markdown",
   "id": "24962b19",
   "metadata": {
    "papermill": {
     "duration": 0.003453,
     "end_time": "2025-06-18T16:53:14.501683",
     "exception": false,
     "start_time": "2025-06-18T16:53:14.498230",
     "status": "completed"
    },
    "tags": []
   },
   "source": [
    "# 🛠️ Titanic Survival Prediction - Feature encoding\n",
    "\n",
    "This notebook is part of the Titanic Survival Prediction project. In this phase, we encode features."
   ]
  },
  {
   "cell_type": "code",
   "execution_count": 1,
   "id": "66da35c1",
   "metadata": {
    "_cell_guid": "b1076dfc-b9ad-4769-8c92-a6c4dae69d19",
    "_uuid": "8f2839f25d086af736a60e9eeb907d3b93b6e0e5",
    "execution": {
     "iopub.execute_input": "2025-06-18T16:53:14.508292Z",
     "iopub.status.busy": "2025-06-18T16:53:14.507885Z",
     "iopub.status.idle": "2025-06-18T16:53:16.761294Z",
     "shell.execute_reply": "2025-06-18T16:53:16.760281Z"
    },
    "papermill": {
     "duration": 2.258573,
     "end_time": "2025-06-18T16:53:16.763096",
     "exception": false,
     "start_time": "2025-06-18T16:53:14.504523",
     "status": "completed"
    },
    "tags": []
   },
   "outputs": [],
   "source": [
    "import numpy as np\n",
    "import pandas as pd"
   ]
  },
  {
   "cell_type": "code",
   "execution_count": 2,
   "id": "2336e21d",
   "metadata": {
    "execution": {
     "iopub.execute_input": "2025-06-18T16:53:16.769966Z",
     "iopub.status.busy": "2025-06-18T16:53:16.769087Z",
     "iopub.status.idle": "2025-06-18T16:53:16.802229Z",
     "shell.execute_reply": "2025-06-18T16:53:16.801226Z"
    },
    "papermill": {
     "duration": 0.038149,
     "end_time": "2025-06-18T16:53:16.803877",
     "exception": false,
     "start_time": "2025-06-18T16:53:16.765728",
     "status": "completed"
    },
    "tags": []
   },
   "outputs": [],
   "source": [
    "df = pd.read_csv(\"/kaggle/input/titanic-fe/titanic_fe.csv\")"
   ]
  },
  {
   "cell_type": "code",
   "execution_count": 3,
   "id": "299fd86a",
   "metadata": {
    "execution": {
     "iopub.execute_input": "2025-06-18T16:53:16.810039Z",
     "iopub.status.busy": "2025-06-18T16:53:16.809752Z",
     "iopub.status.idle": "2025-06-18T16:53:18.871899Z",
     "shell.execute_reply": "2025-06-18T16:53:18.870824Z"
    },
    "papermill": {
     "duration": 2.06738,
     "end_time": "2025-06-18T16:53:18.873755",
     "exception": false,
     "start_time": "2025-06-18T16:53:16.806375",
     "status": "completed"
    },
    "tags": []
   },
   "outputs": [],
   "source": [
    "from sklearn.preprocessing import LabelEncoder"
   ]
  },
  {
   "cell_type": "code",
   "execution_count": 4,
   "id": "e79cc568",
   "metadata": {
    "execution": {
     "iopub.execute_input": "2025-06-18T16:53:18.880344Z",
     "iopub.status.busy": "2025-06-18T16:53:18.879862Z",
     "iopub.status.idle": "2025-06-18T16:53:18.921075Z",
     "shell.execute_reply": "2025-06-18T16:53:18.920194Z"
    },
    "papermill": {
     "duration": 0.045987,
     "end_time": "2025-06-18T16:53:18.922555",
     "exception": false,
     "start_time": "2025-06-18T16:53:18.876568",
     "status": "completed"
    },
    "tags": []
   },
   "outputs": [
    {
     "data": {
      "text/html": [
       "<div>\n",
       "<style scoped>\n",
       "    .dataframe tbody tr th:only-of-type {\n",
       "        vertical-align: middle;\n",
       "    }\n",
       "\n",
       "    .dataframe tbody tr th {\n",
       "        vertical-align: top;\n",
       "    }\n",
       "\n",
       "    .dataframe thead th {\n",
       "        text-align: right;\n",
       "    }\n",
       "</style>\n",
       "<table border=\"1\" class=\"dataframe\">\n",
       "  <thead>\n",
       "    <tr style=\"text-align: right;\">\n",
       "      <th></th>\n",
       "      <th>Survived</th>\n",
       "      <th>Pclass</th>\n",
       "      <th>Name</th>\n",
       "      <th>Sex</th>\n",
       "      <th>Age</th>\n",
       "      <th>SibSp</th>\n",
       "      <th>Parch</th>\n",
       "      <th>Fare</th>\n",
       "      <th>Embarked</th>\n",
       "      <th>FamilySize</th>\n",
       "      <th>isAlone</th>\n",
       "      <th>Title</th>\n",
       "      <th>FareBin</th>\n",
       "      <th>AgeBin</th>\n",
       "    </tr>\n",
       "  </thead>\n",
       "  <tbody>\n",
       "    <tr>\n",
       "      <th>103</th>\n",
       "      <td>0</td>\n",
       "      <td>3</td>\n",
       "      <td>Johansson, Mr. Gustaf Joel</td>\n",
       "      <td>male</td>\n",
       "      <td>33.0</td>\n",
       "      <td>0</td>\n",
       "      <td>0</td>\n",
       "      <td>8.6542</td>\n",
       "      <td>S</td>\n",
       "      <td>1</td>\n",
       "      <td>0</td>\n",
       "      <td>Mr</td>\n",
       "      <td>(7.91, 14.454]</td>\n",
       "      <td>(32.0, 48.0]</td>\n",
       "    </tr>\n",
       "    <tr>\n",
       "      <th>412</th>\n",
       "      <td>1</td>\n",
       "      <td>1</td>\n",
       "      <td>Minahan, Miss. Daisy E</td>\n",
       "      <td>female</td>\n",
       "      <td>33.0</td>\n",
       "      <td>1</td>\n",
       "      <td>0</td>\n",
       "      <td>90.0000</td>\n",
       "      <td>Q</td>\n",
       "      <td>2</td>\n",
       "      <td>1</td>\n",
       "      <td>Miss</td>\n",
       "      <td>(31.0, 512.329]</td>\n",
       "      <td>(32.0, 48.0]</td>\n",
       "    </tr>\n",
       "    <tr>\n",
       "      <th>272</th>\n",
       "      <td>1</td>\n",
       "      <td>2</td>\n",
       "      <td>Mellinger, Mrs. (Elizabeth Anne Maidment)</td>\n",
       "      <td>female</td>\n",
       "      <td>41.0</td>\n",
       "      <td>0</td>\n",
       "      <td>1</td>\n",
       "      <td>19.5000</td>\n",
       "      <td>S</td>\n",
       "      <td>2</td>\n",
       "      <td>1</td>\n",
       "      <td>Mrs</td>\n",
       "      <td>(14.454, 31.0]</td>\n",
       "      <td>(32.0, 48.0]</td>\n",
       "    </tr>\n",
       "    <tr>\n",
       "      <th>607</th>\n",
       "      <td>1</td>\n",
       "      <td>1</td>\n",
       "      <td>Daniel, Mr. Robert Williams</td>\n",
       "      <td>male</td>\n",
       "      <td>27.0</td>\n",
       "      <td>0</td>\n",
       "      <td>0</td>\n",
       "      <td>30.5000</td>\n",
       "      <td>S</td>\n",
       "      <td>1</td>\n",
       "      <td>0</td>\n",
       "      <td>Mr</td>\n",
       "      <td>(14.454, 31.0]</td>\n",
       "      <td>(16.0, 32.0]</td>\n",
       "    </tr>\n",
       "    <tr>\n",
       "      <th>15</th>\n",
       "      <td>1</td>\n",
       "      <td>2</td>\n",
       "      <td>Hewlett, Mrs. (Mary D Kingcome)</td>\n",
       "      <td>female</td>\n",
       "      <td>55.0</td>\n",
       "      <td>0</td>\n",
       "      <td>0</td>\n",
       "      <td>16.0000</td>\n",
       "      <td>S</td>\n",
       "      <td>1</td>\n",
       "      <td>0</td>\n",
       "      <td>Mrs</td>\n",
       "      <td>(14.454, 31.0]</td>\n",
       "      <td>(48.0, 64.0]</td>\n",
       "    </tr>\n",
       "  </tbody>\n",
       "</table>\n",
       "</div>"
      ],
      "text/plain": [
       "     Survived  Pclass                                       Name     Sex  \\\n",
       "103         0       3                 Johansson, Mr. Gustaf Joel    male   \n",
       "412         1       1                     Minahan, Miss. Daisy E  female   \n",
       "272         1       2  Mellinger, Mrs. (Elizabeth Anne Maidment)  female   \n",
       "607         1       1                Daniel, Mr. Robert Williams    male   \n",
       "15          1       2           Hewlett, Mrs. (Mary D Kingcome)   female   \n",
       "\n",
       "      Age  SibSp  Parch     Fare Embarked  FamilySize  isAlone Title  \\\n",
       "103  33.0      0      0   8.6542        S           1        0    Mr   \n",
       "412  33.0      1      0  90.0000        Q           2        1  Miss   \n",
       "272  41.0      0      1  19.5000        S           2        1   Mrs   \n",
       "607  27.0      0      0  30.5000        S           1        0    Mr   \n",
       "15   55.0      0      0  16.0000        S           1        0   Mrs   \n",
       "\n",
       "             FareBin        AgeBin  \n",
       "103   (7.91, 14.454]  (32.0, 48.0]  \n",
       "412  (31.0, 512.329]  (32.0, 48.0]  \n",
       "272   (14.454, 31.0]  (32.0, 48.0]  \n",
       "607   (14.454, 31.0]  (16.0, 32.0]  \n",
       "15    (14.454, 31.0]  (48.0, 64.0]  "
      ]
     },
     "execution_count": 4,
     "metadata": {},
     "output_type": "execute_result"
    }
   ],
   "source": [
    "df.sample(5)"
   ]
  },
  {
   "cell_type": "code",
   "execution_count": 5,
   "id": "46381fbf",
   "metadata": {
    "execution": {
     "iopub.execute_input": "2025-06-18T16:53:18.928932Z",
     "iopub.status.busy": "2025-06-18T16:53:18.928578Z",
     "iopub.status.idle": "2025-06-18T16:53:18.938857Z",
     "shell.execute_reply": "2025-06-18T16:53:18.937991Z"
    },
    "papermill": {
     "duration": 0.015198,
     "end_time": "2025-06-18T16:53:18.940441",
     "exception": false,
     "start_time": "2025-06-18T16:53:18.925243",
     "status": "completed"
    },
    "tags": []
   },
   "outputs": [],
   "source": [
    "columns_to_encode = [\"Sex\", \"Embarked\", \"Title\", \"FareBin\", \"AgeBin\"]\n",
    "\n",
    "for column in columns_to_encode:\n",
    "    encoder = LabelEncoder()\n",
    "    df[column] = encoder.fit_transform(df[column])"
   ]
  },
  {
   "cell_type": "code",
   "execution_count": 6,
   "id": "d2b571c7",
   "metadata": {
    "execution": {
     "iopub.execute_input": "2025-06-18T16:53:18.946904Z",
     "iopub.status.busy": "2025-06-18T16:53:18.946539Z",
     "iopub.status.idle": "2025-06-18T16:53:18.974068Z",
     "shell.execute_reply": "2025-06-18T16:53:18.973037Z"
    },
    "papermill": {
     "duration": 0.032329,
     "end_time": "2025-06-18T16:53:18.975528",
     "exception": false,
     "start_time": "2025-06-18T16:53:18.943199",
     "status": "completed"
    },
    "tags": []
   },
   "outputs": [
    {
     "name": "stdout",
     "output_type": "stream",
     "text": [
      "<class 'pandas.core.frame.DataFrame'>\n",
      "RangeIndex: 891 entries, 0 to 890\n",
      "Data columns (total 14 columns):\n",
      " #   Column      Non-Null Count  Dtype  \n",
      "---  ------      --------------  -----  \n",
      " 0   Survived    891 non-null    int64  \n",
      " 1   Pclass      891 non-null    int64  \n",
      " 2   Name        891 non-null    object \n",
      " 3   Sex         891 non-null    int64  \n",
      " 4   Age         891 non-null    float64\n",
      " 5   SibSp       891 non-null    int64  \n",
      " 6   Parch       891 non-null    int64  \n",
      " 7   Fare        891 non-null    float64\n",
      " 8   Embarked    891 non-null    int64  \n",
      " 9   FamilySize  891 non-null    int64  \n",
      " 10  isAlone     891 non-null    int64  \n",
      " 11  Title       891 non-null    int64  \n",
      " 12  FareBin     891 non-null    int64  \n",
      " 13  AgeBin      891 non-null    int64  \n",
      "dtypes: float64(2), int64(11), object(1)\n",
      "memory usage: 97.6+ KB\n"
     ]
    }
   ],
   "source": [
    "df.info()"
   ]
  },
  {
   "cell_type": "code",
   "execution_count": 7,
   "id": "b46edf98",
   "metadata": {
    "execution": {
     "iopub.execute_input": "2025-06-18T16:53:18.982060Z",
     "iopub.status.busy": "2025-06-18T16:53:18.981756Z",
     "iopub.status.idle": "2025-06-18T16:53:18.996390Z",
     "shell.execute_reply": "2025-06-18T16:53:18.995417Z"
    },
    "papermill": {
     "duration": 0.019671,
     "end_time": "2025-06-18T16:53:18.998029",
     "exception": false,
     "start_time": "2025-06-18T16:53:18.978358",
     "status": "completed"
    },
    "tags": []
   },
   "outputs": [],
   "source": [
    "df.drop(columns=[\"Name\", \"SibSp\", \"Parch\"]).to_csv(\n",
    "    \"titanic_features.csv\", index=False)"
   ]
  },
  {
   "cell_type": "code",
   "execution_count": null,
   "id": "3cd506dd",
   "metadata": {
    "papermill": {
     "duration": 0.002364,
     "end_time": "2025-06-18T16:53:19.003235",
     "exception": false,
     "start_time": "2025-06-18T16:53:19.000871",
     "status": "completed"
    },
    "tags": []
   },
   "outputs": [],
   "source": []
  }
 ],
 "metadata": {
  "kaggle": {
   "accelerator": "none",
   "dataSources": [
    {
     "datasetId": 7689987,
     "sourceId": 12207365,
     "sourceType": "datasetVersion"
    }
   ],
   "dockerImageVersionId": 31040,
   "isGpuEnabled": false,
   "isInternetEnabled": true,
   "language": "python",
   "sourceType": "notebook"
  },
  "kernelspec": {
   "display_name": "Python 3",
   "language": "python",
   "name": "python3"
  },
  "language_info": {
   "codemirror_mode": {
    "name": "ipython",
    "version": 3
   },
   "file_extension": ".py",
   "mimetype": "text/x-python",
   "name": "python",
   "nbconvert_exporter": "python",
   "pygments_lexer": "ipython3",
   "version": "3.11.11"
  },
  "papermill": {
   "default_parameters": {},
   "duration": 10.768149,
   "end_time": "2025-06-18T16:53:19.725661",
   "environment_variables": {},
   "exception": null,
   "input_path": "__notebook__.ipynb",
   "output_path": "__notebook__.ipynb",
   "parameters": {},
   "start_time": "2025-06-18T16:53:08.957512",
   "version": "2.6.0"
  }
 },
 "nbformat": 4,
 "nbformat_minor": 5
}
